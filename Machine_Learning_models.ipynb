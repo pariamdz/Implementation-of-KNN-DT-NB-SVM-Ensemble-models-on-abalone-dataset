{
  "nbformat": 4,
  "nbformat_minor": 0,
  "metadata": {
    "colab": {
      "name": "HW2_USC_ML_4002_4001334043.ipynb",
      "provenance": [],
      "collapsed_sections": []
    },
    "kernelspec": {
      "name": "python3",
      "display_name": "Python 3"
    },
    "language_info": {
      "name": "python"
    },
    "gpuClass": "standard"
  },
  "cells": [
    {
      "cell_type": "code",
      "execution_count": 46,
      "metadata": {
        "id": "4gDWIccLHIDk"
      },
      "outputs": [],
      "source": [
        "import numpy as np\n",
        "import pandas as pd\n",
        "import seaborn as sns\n",
        "import matplotlib.pyplot as plt\n",
        "import time \n",
        "from sklearn.preprocessing import StandardScaler\n",
        "from sklearn.model_selection import cross_val_score\n",
        "from sklearn.model_selection import cross_validate\n",
        "from sklearn.neighbors import KNeighborsClassifier\n",
        "from sklearn.tree import DecisionTreeClassifier\n",
        "from sklearn.naive_bayes import GaussianNB\n",
        "from sklearn.svm import SVC\n",
        "from sklearn.ensemble import StackingClassifier\n",
        "from sklearn.ensemble import RandomForestClassifier\n",
        "from sklearn.decomposition import PCA\n",
        "from sklearn.discriminant_analysis import LinearDiscriminantAnalysis"
      ]
    },
    {
      "cell_type": "code",
      "source": [
        "#load dataset\n",
        "url = (\"https://archive.ics.uci.edu/ml/machine-learning-databases/abalone/abalone.data\")\n",
        "abalone = pd.read_csv(url, header=None)\n",
        "abalone.columns = [\"Sex\", \"Length\", \"Diameter\", \"Height\", \"Whole weight\", \"Shucked weight\", \"Viscera weight\", \"Shell weight\", \"Rings\"]\n",
        "abalone.Sex = abalone.Sex.map({'M':0, 'F':1, 'I':2})\n",
        "abalone"
      ],
      "metadata": {
        "id": "ghGgyXwAHUzm",
        "colab": {
          "base_uri": "https://localhost:8080/",
          "height": 424
        },
        "outputId": "57751648-deab-412a-cf13-9b4231ab395b"
      },
      "execution_count": 47,
      "outputs": [
        {
          "output_type": "execute_result",
          "data": {
            "text/plain": [
              "      Sex  Length  Diameter  Height  Whole weight  Shucked weight  \\\n",
              "0       0   0.455     0.365   0.095        0.5140          0.2245   \n",
              "1       0   0.350     0.265   0.090        0.2255          0.0995   \n",
              "2       1   0.530     0.420   0.135        0.6770          0.2565   \n",
              "3       0   0.440     0.365   0.125        0.5160          0.2155   \n",
              "4       2   0.330     0.255   0.080        0.2050          0.0895   \n",
              "...   ...     ...       ...     ...           ...             ...   \n",
              "4172    1   0.565     0.450   0.165        0.8870          0.3700   \n",
              "4173    0   0.590     0.440   0.135        0.9660          0.4390   \n",
              "4174    0   0.600     0.475   0.205        1.1760          0.5255   \n",
              "4175    1   0.625     0.485   0.150        1.0945          0.5310   \n",
              "4176    0   0.710     0.555   0.195        1.9485          0.9455   \n",
              "\n",
              "      Viscera weight  Shell weight  Rings  \n",
              "0             0.1010        0.1500     15  \n",
              "1             0.0485        0.0700      7  \n",
              "2             0.1415        0.2100      9  \n",
              "3             0.1140        0.1550     10  \n",
              "4             0.0395        0.0550      7  \n",
              "...              ...           ...    ...  \n",
              "4172          0.2390        0.2490     11  \n",
              "4173          0.2145        0.2605     10  \n",
              "4174          0.2875        0.3080      9  \n",
              "4175          0.2610        0.2960     10  \n",
              "4176          0.3765        0.4950     12  \n",
              "\n",
              "[4177 rows x 9 columns]"
            ],
            "text/html": [
              "\n",
              "  <div id=\"df-9f5063cd-20fe-4757-953a-634d3d9811fb\">\n",
              "    <div class=\"colab-df-container\">\n",
              "      <div>\n",
              "<style scoped>\n",
              "    .dataframe tbody tr th:only-of-type {\n",
              "        vertical-align: middle;\n",
              "    }\n",
              "\n",
              "    .dataframe tbody tr th {\n",
              "        vertical-align: top;\n",
              "    }\n",
              "\n",
              "    .dataframe thead th {\n",
              "        text-align: right;\n",
              "    }\n",
              "</style>\n",
              "<table border=\"1\" class=\"dataframe\">\n",
              "  <thead>\n",
              "    <tr style=\"text-align: right;\">\n",
              "      <th></th>\n",
              "      <th>Sex</th>\n",
              "      <th>Length</th>\n",
              "      <th>Diameter</th>\n",
              "      <th>Height</th>\n",
              "      <th>Whole weight</th>\n",
              "      <th>Shucked weight</th>\n",
              "      <th>Viscera weight</th>\n",
              "      <th>Shell weight</th>\n",
              "      <th>Rings</th>\n",
              "    </tr>\n",
              "  </thead>\n",
              "  <tbody>\n",
              "    <tr>\n",
              "      <th>0</th>\n",
              "      <td>0</td>\n",
              "      <td>0.455</td>\n",
              "      <td>0.365</td>\n",
              "      <td>0.095</td>\n",
              "      <td>0.5140</td>\n",
              "      <td>0.2245</td>\n",
              "      <td>0.1010</td>\n",
              "      <td>0.1500</td>\n",
              "      <td>15</td>\n",
              "    </tr>\n",
              "    <tr>\n",
              "      <th>1</th>\n",
              "      <td>0</td>\n",
              "      <td>0.350</td>\n",
              "      <td>0.265</td>\n",
              "      <td>0.090</td>\n",
              "      <td>0.2255</td>\n",
              "      <td>0.0995</td>\n",
              "      <td>0.0485</td>\n",
              "      <td>0.0700</td>\n",
              "      <td>7</td>\n",
              "    </tr>\n",
              "    <tr>\n",
              "      <th>2</th>\n",
              "      <td>1</td>\n",
              "      <td>0.530</td>\n",
              "      <td>0.420</td>\n",
              "      <td>0.135</td>\n",
              "      <td>0.6770</td>\n",
              "      <td>0.2565</td>\n",
              "      <td>0.1415</td>\n",
              "      <td>0.2100</td>\n",
              "      <td>9</td>\n",
              "    </tr>\n",
              "    <tr>\n",
              "      <th>3</th>\n",
              "      <td>0</td>\n",
              "      <td>0.440</td>\n",
              "      <td>0.365</td>\n",
              "      <td>0.125</td>\n",
              "      <td>0.5160</td>\n",
              "      <td>0.2155</td>\n",
              "      <td>0.1140</td>\n",
              "      <td>0.1550</td>\n",
              "      <td>10</td>\n",
              "    </tr>\n",
              "    <tr>\n",
              "      <th>4</th>\n",
              "      <td>2</td>\n",
              "      <td>0.330</td>\n",
              "      <td>0.255</td>\n",
              "      <td>0.080</td>\n",
              "      <td>0.2050</td>\n",
              "      <td>0.0895</td>\n",
              "      <td>0.0395</td>\n",
              "      <td>0.0550</td>\n",
              "      <td>7</td>\n",
              "    </tr>\n",
              "    <tr>\n",
              "      <th>...</th>\n",
              "      <td>...</td>\n",
              "      <td>...</td>\n",
              "      <td>...</td>\n",
              "      <td>...</td>\n",
              "      <td>...</td>\n",
              "      <td>...</td>\n",
              "      <td>...</td>\n",
              "      <td>...</td>\n",
              "      <td>...</td>\n",
              "    </tr>\n",
              "    <tr>\n",
              "      <th>4172</th>\n",
              "      <td>1</td>\n",
              "      <td>0.565</td>\n",
              "      <td>0.450</td>\n",
              "      <td>0.165</td>\n",
              "      <td>0.8870</td>\n",
              "      <td>0.3700</td>\n",
              "      <td>0.2390</td>\n",
              "      <td>0.2490</td>\n",
              "      <td>11</td>\n",
              "    </tr>\n",
              "    <tr>\n",
              "      <th>4173</th>\n",
              "      <td>0</td>\n",
              "      <td>0.590</td>\n",
              "      <td>0.440</td>\n",
              "      <td>0.135</td>\n",
              "      <td>0.9660</td>\n",
              "      <td>0.4390</td>\n",
              "      <td>0.2145</td>\n",
              "      <td>0.2605</td>\n",
              "      <td>10</td>\n",
              "    </tr>\n",
              "    <tr>\n",
              "      <th>4174</th>\n",
              "      <td>0</td>\n",
              "      <td>0.600</td>\n",
              "      <td>0.475</td>\n",
              "      <td>0.205</td>\n",
              "      <td>1.1760</td>\n",
              "      <td>0.5255</td>\n",
              "      <td>0.2875</td>\n",
              "      <td>0.3080</td>\n",
              "      <td>9</td>\n",
              "    </tr>\n",
              "    <tr>\n",
              "      <th>4175</th>\n",
              "      <td>1</td>\n",
              "      <td>0.625</td>\n",
              "      <td>0.485</td>\n",
              "      <td>0.150</td>\n",
              "      <td>1.0945</td>\n",
              "      <td>0.5310</td>\n",
              "      <td>0.2610</td>\n",
              "      <td>0.2960</td>\n",
              "      <td>10</td>\n",
              "    </tr>\n",
              "    <tr>\n",
              "      <th>4176</th>\n",
              "      <td>0</td>\n",
              "      <td>0.710</td>\n",
              "      <td>0.555</td>\n",
              "      <td>0.195</td>\n",
              "      <td>1.9485</td>\n",
              "      <td>0.9455</td>\n",
              "      <td>0.3765</td>\n",
              "      <td>0.4950</td>\n",
              "      <td>12</td>\n",
              "    </tr>\n",
              "  </tbody>\n",
              "</table>\n",
              "<p>4177 rows × 9 columns</p>\n",
              "</div>\n",
              "      <button class=\"colab-df-convert\" onclick=\"convertToInteractive('df-9f5063cd-20fe-4757-953a-634d3d9811fb')\"\n",
              "              title=\"Convert this dataframe to an interactive table.\"\n",
              "              style=\"display:none;\">\n",
              "        \n",
              "  <svg xmlns=\"http://www.w3.org/2000/svg\" height=\"24px\"viewBox=\"0 0 24 24\"\n",
              "       width=\"24px\">\n",
              "    <path d=\"M0 0h24v24H0V0z\" fill=\"none\"/>\n",
              "    <path d=\"M18.56 5.44l.94 2.06.94-2.06 2.06-.94-2.06-.94-.94-2.06-.94 2.06-2.06.94zm-11 1L8.5 8.5l.94-2.06 2.06-.94-2.06-.94L8.5 2.5l-.94 2.06-2.06.94zm10 10l.94 2.06.94-2.06 2.06-.94-2.06-.94-.94-2.06-.94 2.06-2.06.94z\"/><path d=\"M17.41 7.96l-1.37-1.37c-.4-.4-.92-.59-1.43-.59-.52 0-1.04.2-1.43.59L10.3 9.45l-7.72 7.72c-.78.78-.78 2.05 0 2.83L4 21.41c.39.39.9.59 1.41.59.51 0 1.02-.2 1.41-.59l7.78-7.78 2.81-2.81c.8-.78.8-2.07 0-2.86zM5.41 20L4 18.59l7.72-7.72 1.47 1.35L5.41 20z\"/>\n",
              "  </svg>\n",
              "      </button>\n",
              "      \n",
              "  <style>\n",
              "    .colab-df-container {\n",
              "      display:flex;\n",
              "      flex-wrap:wrap;\n",
              "      gap: 12px;\n",
              "    }\n",
              "\n",
              "    .colab-df-convert {\n",
              "      background-color: #E8F0FE;\n",
              "      border: none;\n",
              "      border-radius: 50%;\n",
              "      cursor: pointer;\n",
              "      display: none;\n",
              "      fill: #1967D2;\n",
              "      height: 32px;\n",
              "      padding: 0 0 0 0;\n",
              "      width: 32px;\n",
              "    }\n",
              "\n",
              "    .colab-df-convert:hover {\n",
              "      background-color: #E2EBFA;\n",
              "      box-shadow: 0px 1px 2px rgba(60, 64, 67, 0.3), 0px 1px 3px 1px rgba(60, 64, 67, 0.15);\n",
              "      fill: #174EA6;\n",
              "    }\n",
              "\n",
              "    [theme=dark] .colab-df-convert {\n",
              "      background-color: #3B4455;\n",
              "      fill: #D2E3FC;\n",
              "    }\n",
              "\n",
              "    [theme=dark] .colab-df-convert:hover {\n",
              "      background-color: #434B5C;\n",
              "      box-shadow: 0px 1px 3px 1px rgba(0, 0, 0, 0.15);\n",
              "      filter: drop-shadow(0px 1px 2px rgba(0, 0, 0, 0.3));\n",
              "      fill: #FFFFFF;\n",
              "    }\n",
              "  </style>\n",
              "\n",
              "      <script>\n",
              "        const buttonEl =\n",
              "          document.querySelector('#df-9f5063cd-20fe-4757-953a-634d3d9811fb button.colab-df-convert');\n",
              "        buttonEl.style.display =\n",
              "          google.colab.kernel.accessAllowed ? 'block' : 'none';\n",
              "\n",
              "        async function convertToInteractive(key) {\n",
              "          const element = document.querySelector('#df-9f5063cd-20fe-4757-953a-634d3d9811fb');\n",
              "          const dataTable =\n",
              "            await google.colab.kernel.invokeFunction('convertToInteractive',\n",
              "                                                     [key], {});\n",
              "          if (!dataTable) return;\n",
              "\n",
              "          const docLinkHtml = 'Like what you see? Visit the ' +\n",
              "            '<a target=\"_blank\" href=https://colab.research.google.com/notebooks/data_table.ipynb>data table notebook</a>'\n",
              "            + ' to learn more about interactive tables.';\n",
              "          element.innerHTML = '';\n",
              "          dataTable['output_type'] = 'display_data';\n",
              "          await google.colab.output.renderOutput(dataTable, element);\n",
              "          const docLink = document.createElement('div');\n",
              "          docLink.innerHTML = docLinkHtml;\n",
              "          element.appendChild(docLink);\n",
              "        }\n",
              "      </script>\n",
              "    </div>\n",
              "  </div>\n",
              "  "
            ]
          },
          "metadata": {},
          "execution_count": 47
        }
      ]
    },
    {
      "cell_type": "code",
      "source": [
        "abalone.info()"
      ],
      "metadata": {
        "colab": {
          "base_uri": "https://localhost:8080/"
        },
        "id": "Xh6paJHgNp4F",
        "outputId": "a591b62a-e9b2-4450-a850-d51c227d81f3"
      },
      "execution_count": 48,
      "outputs": [
        {
          "output_type": "stream",
          "name": "stdout",
          "text": [
            "<class 'pandas.core.frame.DataFrame'>\n",
            "RangeIndex: 4177 entries, 0 to 4176\n",
            "Data columns (total 9 columns):\n",
            " #   Column          Non-Null Count  Dtype  \n",
            "---  ------          --------------  -----  \n",
            " 0   Sex             4177 non-null   int64  \n",
            " 1   Length          4177 non-null   float64\n",
            " 2   Diameter        4177 non-null   float64\n",
            " 3   Height          4177 non-null   float64\n",
            " 4   Whole weight    4177 non-null   float64\n",
            " 5   Shucked weight  4177 non-null   float64\n",
            " 6   Viscera weight  4177 non-null   float64\n",
            " 7   Shell weight    4177 non-null   float64\n",
            " 8   Rings           4177 non-null   int64  \n",
            "dtypes: float64(7), int64(2)\n",
            "memory usage: 293.8 KB\n"
          ]
        }
      ]
    },
    {
      "cell_type": "code",
      "source": [
        "abalone.describe()"
      ],
      "metadata": {
        "colab": {
          "base_uri": "https://localhost:8080/",
          "height": 300
        },
        "id": "56ilFVgmlnHW",
        "outputId": "968a3c75-e3be-4e3b-ed0d-154791e5177a"
      },
      "execution_count": 49,
      "outputs": [
        {
          "output_type": "execute_result",
          "data": {
            "text/plain": [
              "               Sex       Length     Diameter       Height  Whole weight  \\\n",
              "count  4177.000000  4177.000000  4177.000000  4177.000000   4177.000000   \n",
              "mean      0.955470     0.523992     0.407881     0.139516      0.828742   \n",
              "std       0.827815     0.120093     0.099240     0.041827      0.490389   \n",
              "min       0.000000     0.075000     0.055000     0.000000      0.002000   \n",
              "25%       0.000000     0.450000     0.350000     0.115000      0.441500   \n",
              "50%       1.000000     0.545000     0.425000     0.140000      0.799500   \n",
              "75%       2.000000     0.615000     0.480000     0.165000      1.153000   \n",
              "max       2.000000     0.815000     0.650000     1.130000      2.825500   \n",
              "\n",
              "       Shucked weight  Viscera weight  Shell weight        Rings  \n",
              "count     4177.000000     4177.000000   4177.000000  4177.000000  \n",
              "mean         0.359367        0.180594      0.238831     9.933684  \n",
              "std          0.221963        0.109614      0.139203     3.224169  \n",
              "min          0.001000        0.000500      0.001500     1.000000  \n",
              "25%          0.186000        0.093500      0.130000     8.000000  \n",
              "50%          0.336000        0.171000      0.234000     9.000000  \n",
              "75%          0.502000        0.253000      0.329000    11.000000  \n",
              "max          1.488000        0.760000      1.005000    29.000000  "
            ],
            "text/html": [
              "\n",
              "  <div id=\"df-709c5b64-9788-4a1c-bea8-25232ec2bf02\">\n",
              "    <div class=\"colab-df-container\">\n",
              "      <div>\n",
              "<style scoped>\n",
              "    .dataframe tbody tr th:only-of-type {\n",
              "        vertical-align: middle;\n",
              "    }\n",
              "\n",
              "    .dataframe tbody tr th {\n",
              "        vertical-align: top;\n",
              "    }\n",
              "\n",
              "    .dataframe thead th {\n",
              "        text-align: right;\n",
              "    }\n",
              "</style>\n",
              "<table border=\"1\" class=\"dataframe\">\n",
              "  <thead>\n",
              "    <tr style=\"text-align: right;\">\n",
              "      <th></th>\n",
              "      <th>Sex</th>\n",
              "      <th>Length</th>\n",
              "      <th>Diameter</th>\n",
              "      <th>Height</th>\n",
              "      <th>Whole weight</th>\n",
              "      <th>Shucked weight</th>\n",
              "      <th>Viscera weight</th>\n",
              "      <th>Shell weight</th>\n",
              "      <th>Rings</th>\n",
              "    </tr>\n",
              "  </thead>\n",
              "  <tbody>\n",
              "    <tr>\n",
              "      <th>count</th>\n",
              "      <td>4177.000000</td>\n",
              "      <td>4177.000000</td>\n",
              "      <td>4177.000000</td>\n",
              "      <td>4177.000000</td>\n",
              "      <td>4177.000000</td>\n",
              "      <td>4177.000000</td>\n",
              "      <td>4177.000000</td>\n",
              "      <td>4177.000000</td>\n",
              "      <td>4177.000000</td>\n",
              "    </tr>\n",
              "    <tr>\n",
              "      <th>mean</th>\n",
              "      <td>0.955470</td>\n",
              "      <td>0.523992</td>\n",
              "      <td>0.407881</td>\n",
              "      <td>0.139516</td>\n",
              "      <td>0.828742</td>\n",
              "      <td>0.359367</td>\n",
              "      <td>0.180594</td>\n",
              "      <td>0.238831</td>\n",
              "      <td>9.933684</td>\n",
              "    </tr>\n",
              "    <tr>\n",
              "      <th>std</th>\n",
              "      <td>0.827815</td>\n",
              "      <td>0.120093</td>\n",
              "      <td>0.099240</td>\n",
              "      <td>0.041827</td>\n",
              "      <td>0.490389</td>\n",
              "      <td>0.221963</td>\n",
              "      <td>0.109614</td>\n",
              "      <td>0.139203</td>\n",
              "      <td>3.224169</td>\n",
              "    </tr>\n",
              "    <tr>\n",
              "      <th>min</th>\n",
              "      <td>0.000000</td>\n",
              "      <td>0.075000</td>\n",
              "      <td>0.055000</td>\n",
              "      <td>0.000000</td>\n",
              "      <td>0.002000</td>\n",
              "      <td>0.001000</td>\n",
              "      <td>0.000500</td>\n",
              "      <td>0.001500</td>\n",
              "      <td>1.000000</td>\n",
              "    </tr>\n",
              "    <tr>\n",
              "      <th>25%</th>\n",
              "      <td>0.000000</td>\n",
              "      <td>0.450000</td>\n",
              "      <td>0.350000</td>\n",
              "      <td>0.115000</td>\n",
              "      <td>0.441500</td>\n",
              "      <td>0.186000</td>\n",
              "      <td>0.093500</td>\n",
              "      <td>0.130000</td>\n",
              "      <td>8.000000</td>\n",
              "    </tr>\n",
              "    <tr>\n",
              "      <th>50%</th>\n",
              "      <td>1.000000</td>\n",
              "      <td>0.545000</td>\n",
              "      <td>0.425000</td>\n",
              "      <td>0.140000</td>\n",
              "      <td>0.799500</td>\n",
              "      <td>0.336000</td>\n",
              "      <td>0.171000</td>\n",
              "      <td>0.234000</td>\n",
              "      <td>9.000000</td>\n",
              "    </tr>\n",
              "    <tr>\n",
              "      <th>75%</th>\n",
              "      <td>2.000000</td>\n",
              "      <td>0.615000</td>\n",
              "      <td>0.480000</td>\n",
              "      <td>0.165000</td>\n",
              "      <td>1.153000</td>\n",
              "      <td>0.502000</td>\n",
              "      <td>0.253000</td>\n",
              "      <td>0.329000</td>\n",
              "      <td>11.000000</td>\n",
              "    </tr>\n",
              "    <tr>\n",
              "      <th>max</th>\n",
              "      <td>2.000000</td>\n",
              "      <td>0.815000</td>\n",
              "      <td>0.650000</td>\n",
              "      <td>1.130000</td>\n",
              "      <td>2.825500</td>\n",
              "      <td>1.488000</td>\n",
              "      <td>0.760000</td>\n",
              "      <td>1.005000</td>\n",
              "      <td>29.000000</td>\n",
              "    </tr>\n",
              "  </tbody>\n",
              "</table>\n",
              "</div>\n",
              "      <button class=\"colab-df-convert\" onclick=\"convertToInteractive('df-709c5b64-9788-4a1c-bea8-25232ec2bf02')\"\n",
              "              title=\"Convert this dataframe to an interactive table.\"\n",
              "              style=\"display:none;\">\n",
              "        \n",
              "  <svg xmlns=\"http://www.w3.org/2000/svg\" height=\"24px\"viewBox=\"0 0 24 24\"\n",
              "       width=\"24px\">\n",
              "    <path d=\"M0 0h24v24H0V0z\" fill=\"none\"/>\n",
              "    <path d=\"M18.56 5.44l.94 2.06.94-2.06 2.06-.94-2.06-.94-.94-2.06-.94 2.06-2.06.94zm-11 1L8.5 8.5l.94-2.06 2.06-.94-2.06-.94L8.5 2.5l-.94 2.06-2.06.94zm10 10l.94 2.06.94-2.06 2.06-.94-2.06-.94-.94-2.06-.94 2.06-2.06.94z\"/><path d=\"M17.41 7.96l-1.37-1.37c-.4-.4-.92-.59-1.43-.59-.52 0-1.04.2-1.43.59L10.3 9.45l-7.72 7.72c-.78.78-.78 2.05 0 2.83L4 21.41c.39.39.9.59 1.41.59.51 0 1.02-.2 1.41-.59l7.78-7.78 2.81-2.81c.8-.78.8-2.07 0-2.86zM5.41 20L4 18.59l7.72-7.72 1.47 1.35L5.41 20z\"/>\n",
              "  </svg>\n",
              "      </button>\n",
              "      \n",
              "  <style>\n",
              "    .colab-df-container {\n",
              "      display:flex;\n",
              "      flex-wrap:wrap;\n",
              "      gap: 12px;\n",
              "    }\n",
              "\n",
              "    .colab-df-convert {\n",
              "      background-color: #E8F0FE;\n",
              "      border: none;\n",
              "      border-radius: 50%;\n",
              "      cursor: pointer;\n",
              "      display: none;\n",
              "      fill: #1967D2;\n",
              "      height: 32px;\n",
              "      padding: 0 0 0 0;\n",
              "      width: 32px;\n",
              "    }\n",
              "\n",
              "    .colab-df-convert:hover {\n",
              "      background-color: #E2EBFA;\n",
              "      box-shadow: 0px 1px 2px rgba(60, 64, 67, 0.3), 0px 1px 3px 1px rgba(60, 64, 67, 0.15);\n",
              "      fill: #174EA6;\n",
              "    }\n",
              "\n",
              "    [theme=dark] .colab-df-convert {\n",
              "      background-color: #3B4455;\n",
              "      fill: #D2E3FC;\n",
              "    }\n",
              "\n",
              "    [theme=dark] .colab-df-convert:hover {\n",
              "      background-color: #434B5C;\n",
              "      box-shadow: 0px 1px 3px 1px rgba(0, 0, 0, 0.15);\n",
              "      filter: drop-shadow(0px 1px 2px rgba(0, 0, 0, 0.3));\n",
              "      fill: #FFFFFF;\n",
              "    }\n",
              "  </style>\n",
              "\n",
              "      <script>\n",
              "        const buttonEl =\n",
              "          document.querySelector('#df-709c5b64-9788-4a1c-bea8-25232ec2bf02 button.colab-df-convert');\n",
              "        buttonEl.style.display =\n",
              "          google.colab.kernel.accessAllowed ? 'block' : 'none';\n",
              "\n",
              "        async function convertToInteractive(key) {\n",
              "          const element = document.querySelector('#df-709c5b64-9788-4a1c-bea8-25232ec2bf02');\n",
              "          const dataTable =\n",
              "            await google.colab.kernel.invokeFunction('convertToInteractive',\n",
              "                                                     [key], {});\n",
              "          if (!dataTable) return;\n",
              "\n",
              "          const docLinkHtml = 'Like what you see? Visit the ' +\n",
              "            '<a target=\"_blank\" href=https://colab.research.google.com/notebooks/data_table.ipynb>data table notebook</a>'\n",
              "            + ' to learn more about interactive tables.';\n",
              "          element.innerHTML = '';\n",
              "          dataTable['output_type'] = 'display_data';\n",
              "          await google.colab.output.renderOutput(dataTable, element);\n",
              "          const docLink = document.createElement('div');\n",
              "          docLink.innerHTML = docLinkHtml;\n",
              "          element.appendChild(docLink);\n",
              "        }\n",
              "      </script>\n",
              "    </div>\n",
              "  </div>\n",
              "  "
            ]
          },
          "metadata": {},
          "execution_count": 49
        }
      ]
    },
    {
      "cell_type": "code",
      "source": [
        "abalone['Rings'].value_counts().plot(kind='bar')"
      ],
      "metadata": {
        "colab": {
          "base_uri": "https://localhost:8080/",
          "height": 286
        },
        "id": "OER2AtySl8dz",
        "outputId": "49a68230-13b5-4caf-d1c7-a63544cf44f6"
      },
      "execution_count": 50,
      "outputs": [
        {
          "output_type": "execute_result",
          "data": {
            "text/plain": [
              "<matplotlib.axes._subplots.AxesSubplot at 0x7fee411251d0>"
            ]
          },
          "metadata": {},
          "execution_count": 50
        },
        {
          "output_type": "display_data",
          "data": {
            "text/plain": [
              "<Figure size 432x288 with 1 Axes>"
            ],
            "image/png": "[encoded data removed]"
          },
          "metadata": {
            "needs_background": "light"
          }
        }
      ]
    },
    {
      "cell_type": "code",
      "source": [
        "abalone.corr()['Rings'].sort_values()"
      ],
      "metadata": {
        "colab": {
          "base_uri": "https://localhost:8080/"
        },
        "id": "iRk5SB2SmHt4",
        "outputId": "30f07423-8800-45a2-e64c-a9e3b174e17a"
      },
      "execution_count": 51,
      "outputs": [
        {
          "output_type": "execute_result",
          "data": {
            "text/plain": [
              "Sex              -0.351822\n",
              "Shucked weight    0.420884\n",
              "Viscera weight    0.503819\n",
              "Whole weight      0.540390\n",
              "Length            0.556720\n",
              "Height            0.557467\n",
              "Diameter          0.574660\n",
              "Shell weight      0.627574\n",
              "Rings             1.000000\n",
              "Name: Rings, dtype: float64"
            ]
          },
          "metadata": {},
          "execution_count": 51
        }
      ]
    },
    {
      "cell_type": "code",
      "source": [
        "# remove features \"Sex\" (it isn't a physical measurement) and \"Shucked weight\" (correlation under an arbitrary threshold of 0.5)\n",
        "\n",
        "abalone = abalone.drop([\"Sex\", \"Shucked weight\"], axis=1)"
      ],
      "metadata": {
        "id": "fHH877nyl387"
      },
      "execution_count": 52,
      "outputs": []
    },
    {
      "cell_type": "code",
      "source": [
        "X = abalone.iloc[:, :-1].values\n",
        "y = abalone.iloc[:, -1].values"
      ],
      "metadata": {
        "id": "mSMINfzjZIM3"
      },
      "execution_count": 53,
      "outputs": []
    },
    {
      "cell_type": "code",
      "source": [
        "X"
      ],
      "metadata": {
        "colab": {
          "base_uri": "https://localhost:8080/"
        },
        "id": "xmRc_uJhm2t8",
        "outputId": "1ad9ba6e-0bb3-41f8-a505-a68f47517e46"
      },
      "execution_count": 54,
      "outputs": [
        {
          "output_type": "execute_result",
          "data": {
            "text/plain": [
              "array([[0.455 , 0.365 , 0.095 , 0.514 , 0.101 , 0.15  ],\n",
              "       [0.35  , 0.265 , 0.09  , 0.2255, 0.0485, 0.07  ],\n",
              "       [0.53  , 0.42  , 0.135 , 0.677 , 0.1415, 0.21  ],\n",
              "       ...,\n",
              "       [0.6   , 0.475 , 0.205 , 1.176 , 0.2875, 0.308 ],\n",
              "       [0.625 , 0.485 , 0.15  , 1.0945, 0.261 , 0.296 ],\n",
              "       [0.71  , 0.555 , 0.195 , 1.9485, 0.3765, 0.495 ]])"
            ]
          },
          "metadata": {},
          "execution_count": 54
        }
      ]
    },
    {
      "cell_type": "code",
      "source": [
        "y"
      ],
      "metadata": {
        "colab": {
          "base_uri": "https://localhost:8080/"
        },
        "id": "adjzkbl_m4sF",
        "outputId": "f25b4e8a-fa1a-44be-de4d-df18f703647f"
      },
      "execution_count": 55,
      "outputs": [
        {
          "output_type": "execute_result",
          "data": {
            "text/plain": [
              "array([15,  7,  9, ...,  9, 10, 12])"
            ]
          },
          "metadata": {},
          "execution_count": 55
        }
      ]
    },
    {
      "cell_type": "code",
      "source": [
        "sc = StandardScaler()\n",
        "X = sc.fit_transform(X)"
      ],
      "metadata": {
        "id": "WdZmAt5HY_mD"
      },
      "execution_count": 56,
      "outputs": []
    },
    {
      "cell_type": "code",
      "source": [
        "scoring = ['accuracy', 'precision_micro', 'recall_micro', 'f1_micro']\n",
        "accuracy_mean = {}\n",
        "accuracy_std = {}\n",
        "precision_mean = {}\n",
        "precision_std = {}\n",
        "recall_mean = {}\n",
        "recall_std = {}\n",
        "f_measure_mean = {}\n",
        "f_measure_std = {}\n",
        "fit_time = {}"
      ],
      "metadata": {
        "id": "A-10DNz8Bhpi"
      },
      "execution_count": 57,
      "outputs": []
    },
    {
      "cell_type": "markdown",
      "source": [
        "**KNN**"
      ],
      "metadata": {
        "id": "nIY62YxTy-yd"
      }
    },
    {
      "cell_type": "code",
      "source": [
        "knn1 = KNeighborsClassifier(n_neighbors=1)\n",
        "knn3 = KNeighborsClassifier(n_neighbors=3)\n",
        "knn5 = KNeighborsClassifier(n_neighbors=5)"
      ],
      "metadata": {
        "id": "2czC2jd90Ipq"
      },
      "execution_count": 58,
      "outputs": []
    },
    {
      "cell_type": "code",
      "source": [
        "#knn1\n",
        "scores = cross_validate(knn1, X, y, cv=3, scoring=scoring)\n",
        "accuracy_mean['knn1'] = scores['test_accuracy'].mean()\n",
        "accuracy_std['knn1'] = scores['test_accuracy'].std()\n",
        "precision_mean['knn1'] = scores['test_precision_micro'].mean()\n",
        "precision_std['knn1'] = scores['test_precision_micro'].std()\n",
        "recall_mean['knn1'] = scores['test_recall_micro'].mean()\n",
        "recall_std['knn1'] = scores['test_recall_micro'].std()\n",
        "f_measure_mean['knn1'] = scores['test_f1_micro'].mean()\n",
        "f_measure_std['knn1'] = scores['test_f1_micro'].std()\n",
        "fit_time['knn1'] = scores['fit_time'].mean()*1000\n",
        "\n",
        "#knn3\n",
        "scores = cross_validate(knn3, X, y, cv=3, scoring=scoring)\n",
        "accuracy_mean['knn3'] = scores['test_accuracy'].mean()\n",
        "accuracy_std['knn3'] = scores['test_accuracy'].std()\n",
        "precision_mean['knn3'] = scores['test_precision_micro'].mean()\n",
        "precision_std['knn3'] = scores['test_precision_micro'].std()\n",
        "recall_mean['knn3'] = scores['test_recall_micro'].mean()\n",
        "recall_std['knn3'] = scores['test_recall_micro'].std()\n",
        "f_measure_mean['knn3'] = scores['test_f1_micro'].mean()\n",
        "f_measure_std['knn3'] = scores['test_f1_micro'].std()\n",
        "fit_time['knn3'] = scores['fit_time'].mean()*1000\n",
        "\n",
        "#knn5\n",
        "scores = cross_validate(knn5, X, y, cv=3, scoring=scoring)\n",
        "accuracy_mean['knn5'] = scores['test_accuracy'].mean()\n",
        "accuracy_std['knn5'] = scores['test_accuracy'].std()\n",
        "precision_mean['knn5'] = scores['test_precision_micro'].mean()\n",
        "precision_std['knn5'] = scores['test_precision_micro'].std()\n",
        "recall_mean['knn5'] = scores['test_recall_micro'].mean()\n",
        "recall_std['knn5'] = scores['test_recall_micro'].std()\n",
        "f_measure_mean['knn5'] = scores['test_f1_micro'].mean()\n",
        "f_measure_std['knn5'] = scores['test_f1_micro'].std()\n",
        "fit_time['knn5'] = scores['fit_time'].mean()*1000"
      ],
      "metadata": {
        "id": "Kw5nyHJacdpd",
        "colab": {
          "base_uri": "https://localhost:8080/"
        },
        "outputId": "9c38208b-fd99-4cc4-e53d-56160ae13d3b"
      },
      "execution_count": 59,
      "outputs": [
        {
          "output_type": "stream",
          "name": "stderr",
          "text": [
            "/usr/local/lib/python3.7/dist-packages/sklearn/model_selection/_split.py:680: UserWarning: The least populated class in y has only 1 members, which is less than n_splits=3.\n",
            "  UserWarning,\n",
            "/usr/local/lib/python3.7/dist-packages/sklearn/model_selection/_split.py:680: UserWarning: The least populated class in y has only 1 members, which is less than n_splits=3.\n",
            "  UserWarning,\n",
            "/usr/local/lib/python3.7/dist-packages/sklearn/model_selection/_split.py:680: UserWarning: The least populated class in y has only 1 members, which is less than n_splits=3.\n",
            "  UserWarning,\n"
          ]
        }
      ]
    },
    {
      "cell_type": "markdown",
      "source": [
        "**Decision Tree**"
      ],
      "metadata": {
        "id": "f422SxUCBxiM"
      }
    },
    {
      "cell_type": "code",
      "source": [
        "DT_IG = DecisionTreeClassifier(criterion='entropy')\n",
        "DT_Gini = DecisionTreeClassifier(criterion='gini')"
      ],
      "metadata": {
        "id": "JtEjPwYTumDA"
      },
      "execution_count": 60,
      "outputs": []
    },
    {
      "cell_type": "code",
      "source": [
        "#Information Gain\n",
        "scores = cross_validate(DT_IG, X, y, cv=3, scoring=scoring)\n",
        "accuracy_mean['DT_IG'] = scores['test_accuracy'].mean()\n",
        "accuracy_std['DT_IG'] = scores['test_accuracy'].std()\n",
        "precision_mean['DT_IG'] = scores['test_precision_micro'].mean()\n",
        "precision_std['DT_IG'] = scores['test_precision_micro'].std()\n",
        "recall_mean['DT_IG'] = scores['test_recall_micro'].mean()\n",
        "recall_std['DT_IG'] = scores['test_recall_micro'].std()\n",
        "f_measure_mean['DT_IG'] = scores['test_f1_micro'].mean()\n",
        "f_measure_std['DT_IG'] = scores['test_f1_micro'].std()\n",
        "fit_time['DT_IG'] = scores['fit_time'].mean()*1000\n",
        "\n",
        "#Gini\n",
        "scores = cross_validate(DT_Gini, X, y, cv=3, scoring=scoring)\n",
        "accuracy_mean['DT_Gini'] = scores['test_accuracy'].mean()\n",
        "accuracy_std['DT_Gini'] = scores['test_accuracy'].std()\n",
        "precision_mean['DT_Gini'] = scores['test_precision_micro'].mean()\n",
        "precision_std['DT_Gini'] = scores['test_precision_micro'].std()\n",
        "recall_mean['DT_Gini'] = scores['test_recall_micro'].mean()\n",
        "recall_std['DT_Gini'] = scores['test_recall_micro'].std()\n",
        "f_measure_mean['DT_Gini'] = scores['test_f1_micro'].mean()\n",
        "f_measure_std['DT_Gini'] = scores['test_f1_micro'].std()\n",
        "fit_time['DT_Gini'] = scores['fit_time'].mean()*1000"
      ],
      "metadata": {
        "colab": {
          "base_uri": "https://localhost:8080/"
        },
        "id": "xLO9k9XJCiZ0",
        "outputId": "f894d9d6-e543-4581-d8b8-80e06e7213cb"
      },
      "execution_count": 61,
      "outputs": [
        {
          "output_type": "stream",
          "name": "stderr",
          "text": [
            "/usr/local/lib/python3.7/dist-packages/sklearn/model_selection/_split.py:680: UserWarning: The least populated class in y has only 1 members, which is less than n_splits=3.\n",
            "  UserWarning,\n",
            "/usr/local/lib/python3.7/dist-packages/sklearn/model_selection/_split.py:680: UserWarning: The least populated class in y has only 1 members, which is less than n_splits=3.\n",
            "  UserWarning,\n"
          ]
        }
      ]
    },
    {
      "cell_type": "markdown",
      "source": [
        "**Naive Bayes**"
      ],
      "metadata": {
        "id": "sGfLbQ7uNknX"
      }
    },
    {
      "cell_type": "code",
      "source": [
        "NB = GaussianNB()"
      ],
      "metadata": {
        "id": "BLRX_ARcNmt8"
      },
      "execution_count": 62,
      "outputs": []
    },
    {
      "cell_type": "code",
      "source": [
        "#GaussianNB\n",
        "scores = cross_validate(NB, X, y, cv=3, scoring=scoring)\n",
        "accuracy_mean['NB'] = scores['test_accuracy'].mean()\n",
        "accuracy_std['NB'] = scores['test_accuracy'].std()\n",
        "precision_mean['NB'] = scores['test_precision_micro'].mean()\n",
        "precision_std['NB'] = scores['test_precision_micro'].std()\n",
        "recall_mean['NB'] = scores['test_recall_micro'].mean()\n",
        "recall_std['NB'] = scores['test_recall_micro'].std()\n",
        "f_measure_mean['NB'] = scores['test_f1_micro'].mean()\n",
        "f_measure_std['NB'] = scores['test_f1_micro'].std()\n",
        "fit_time['NB'] = scores['fit_time'].mean()*1000"
      ],
      "metadata": {
        "colab": {
          "base_uri": "https://localhost:8080/"
        },
        "id": "4UPJPsIwDbog",
        "outputId": "46637744-6a99-4625-f97c-dd62ebd2faee"
      },
      "execution_count": 63,
      "outputs": [
        {
          "output_type": "stream",
          "name": "stderr",
          "text": [
            "/usr/local/lib/python3.7/dist-packages/sklearn/model_selection/_split.py:680: UserWarning: The least populated class in y has only 1 members, which is less than n_splits=3.\n",
            "  UserWarning,\n"
          ]
        }
      ]
    },
    {
      "cell_type": "markdown",
      "source": [
        "**SVM**"
      ],
      "metadata": {
        "id": "JkIRo2XDJGT5"
      }
    },
    {
      "cell_type": "code",
      "source": [
        "Clsfr_rbf = SVC(kernel = 'rbf')\n",
        "Clsfr_poly = SVC(kernel = 'poly')\n",
        "Clsfr_sigmoid = SVC(kernel = 'sigmoid')"
      ],
      "metadata": {
        "id": "ZU7juFceIJsZ"
      },
      "execution_count": 64,
      "outputs": []
    },
    {
      "cell_type": "code",
      "source": [
        "#kernel = 'rbf'\n",
        "scores = cross_validate(Clsfr_rbf, X, y, cv=3, scoring=scoring)\n",
        "accuracy_mean['Clsfr_rbf'] = scores['test_accuracy'].mean()\n",
        "accuracy_std['Clsfr_rbf'] = scores['test_accuracy'].std()\n",
        "precision_mean['Clsfr_rbf'] = scores['test_precision_micro'].mean()\n",
        "precision_std['Clsfr_rbf'] = scores['test_precision_micro'].std()\n",
        "recall_mean['Clsfr_rbf'] = scores['test_recall_micro'].mean()\n",
        "recall_std['Clsfr_rbf'] = scores['test_recall_micro'].std()\n",
        "f_measure_mean['Clsfr_rbf'] = scores['test_f1_micro'].mean()\n",
        "f_measure_std['Clsfr_rbf'] = scores['test_f1_micro'].std()\n",
        "fit_time['Clsfr_rbf'] = scores['fit_time'].mean()*1000\n",
        "\n",
        "#kernel = 'poly'\n",
        "scores = cross_validate(Clsfr_poly, X, y, cv=3, scoring=scoring)\n",
        "accuracy_mean['Clsfr_poly'] = scores['test_accuracy'].mean()\n",
        "accuracy_std['Clsfr_poly'] = scores['test_accuracy'].std()\n",
        "precision_mean['Clsfr_poly'] = scores['test_precision_micro'].mean()\n",
        "precision_std['Clsfr_poly'] = scores['test_precision_micro'].std()\n",
        "recall_mean['Clsfr_poly'] = scores['test_recall_micro'].mean()\n",
        "recall_std['Clsfr_poly'] = scores['test_recall_micro'].std()\n",
        "f_measure_mean['Clsfr_poly'] = scores['test_f1_micro'].mean()\n",
        "f_measure_std['Clsfr_poly'] = scores['test_f1_micro'].std()\n",
        "fit_time['Clsfr_poly'] = scores['fit_time'].mean()*1000\n",
        "\n",
        "#kernel = 'sigmoid'\n",
        "scores = cross_validate(Clsfr_sigmoid, X, y, cv=3, scoring=scoring)\n",
        "accuracy_mean['Clsfr_sigmoid'] = scores['test_accuracy'].mean()\n",
        "accuracy_std['Clsfr_sigmoid'] = scores['test_accuracy'].std()\n",
        "precision_mean['Clsfr_sigmoid'] = scores['test_precision_micro'].mean()\n",
        "precision_std['Clsfr_sigmoid'] = scores['test_precision_micro'].std()\n",
        "recall_mean['Clsfr_sigmoid'] = scores['test_recall_micro'].mean()\n",
        "recall_std['Clsfr_sigmoid'] = scores['test_recall_micro'].std()\n",
        "f_measure_mean['Clsfr_sigmoid'] = scores['test_f1_micro'].mean()\n",
        "f_measure_std['Clsfr_sigmoid'] = scores['test_f1_micro'].std()\n",
        "fit_time['Clsfr_sigmoid'] = scores['fit_time'].mean()*1000"
      ],
      "metadata": {
        "id": "yVtWyGRAMhu_",
        "colab": {
          "base_uri": "https://localhost:8080/"
        },
        "outputId": "e7f424b5-f5a9-46e9-8fa0-83983460bc28"
      },
      "execution_count": 65,
      "outputs": [
        {
          "output_type": "stream",
          "name": "stderr",
          "text": [
            "/usr/local/lib/python3.7/dist-packages/sklearn/model_selection/_split.py:680: UserWarning: The least populated class in y has only 1 members, which is less than n_splits=3.\n",
            "  UserWarning,\n",
            "/usr/local/lib/python3.7/dist-packages/sklearn/model_selection/_split.py:680: UserWarning: The least populated class in y has only 1 members, which is less than n_splits=3.\n",
            "  UserWarning,\n",
            "/usr/local/lib/python3.7/dist-packages/sklearn/model_selection/_split.py:680: UserWarning: The least populated class in y has only 1 members, which is less than n_splits=3.\n",
            "  UserWarning,\n"
          ]
        }
      ]
    },
    {
      "cell_type": "markdown",
      "source": [
        "**Ensemble**"
      ],
      "metadata": {
        "id": "cUZLj0fbQ7hX"
      }
    },
    {
      "cell_type": "code",
      "source": [
        "estimators = [('rf', RandomForestClassifier(n_estimators=10, random_state=42)), \n",
        "              ('knn5', KNeighborsClassifier(n_neighbors=5)), \n",
        "              ('nb', GaussianNB())\n",
        "]\n",
        "ensemble = StackingClassifier(estimators=estimators)"
      ],
      "metadata": {
        "id": "6-OvtsEEJ1N7"
      },
      "execution_count": 66,
      "outputs": []
    },
    {
      "cell_type": "code",
      "source": [
        "#ensemble\n",
        "scores = cross_validate(ensemble, X, y, cv=3, scoring=scoring)\n",
        "accuracy_mean['ensemble'] = scores['test_accuracy'].mean()\n",
        "accuracy_std['ensemble'] = scores['test_accuracy'].std()\n",
        "precision_mean['ensemble'] = scores['test_precision_micro'].mean()\n",
        "precision_std['ensemble'] = scores['test_precision_micro'].std()\n",
        "recall_mean['ensemble'] = scores['test_recall_micro'].mean()\n",
        "recall_std['ensemble'] = scores['test_recall_micro'].std()\n",
        "f_measure_mean['ensemble'] = scores['test_f1_micro'].mean()\n",
        "f_measure_std['ensemble'] = scores['test_f1_micro'].std()\n",
        "fit_time['ensemble'] = scores['fit_time'].mean()*1000"
      ],
      "metadata": {
        "colab": {
          "base_uri": "https://localhost:8080/"
        },
        "id": "jqs0F-juJw8Y",
        "outputId": "c5dd1486-7b9b-40f0-91d6-2bc657a70d98"
      },
      "execution_count": 67,
      "outputs": [
        {
          "output_type": "stream",
          "name": "stderr",
          "text": [
            "/usr/local/lib/python3.7/dist-packages/sklearn/model_selection/_split.py:680: UserWarning: The least populated class in y has only 1 members, which is less than n_splits=3.\n",
            "  UserWarning,\n",
            "/usr/local/lib/python3.7/dist-packages/sklearn/model_selection/_split.py:680: UserWarning: The least populated class in y has only 1 members, which is less than n_splits=5.\n",
            "  UserWarning,\n",
            "/usr/local/lib/python3.7/dist-packages/sklearn/model_selection/_validation.py:1097: RuntimeWarning: Number of classes in training fold (25) does not match total number of classes (27). Results may not be appropriate for your use case. To fix this, use a cross-validation technique resulting in properly stratified folds\n",
            "  RuntimeWarning,\n",
            "/usr/local/lib/python3.7/dist-packages/sklearn/model_selection/_validation.py:1097: RuntimeWarning: Number of classes in training fold (25) does not match total number of classes (27). Results may not be appropriate for your use case. To fix this, use a cross-validation technique resulting in properly stratified folds\n",
            "  RuntimeWarning,\n",
            "/usr/local/lib/python3.7/dist-packages/sklearn/model_selection/_validation.py:1097: RuntimeWarning: Number of classes in training fold (26) does not match total number of classes (27). Results may not be appropriate for your use case. To fix this, use a cross-validation technique resulting in properly stratified folds\n",
            "  RuntimeWarning,\n",
            "/usr/local/lib/python3.7/dist-packages/sklearn/model_selection/_validation.py:1097: RuntimeWarning: Number of classes in training fold (26) does not match total number of classes (27). Results may not be appropriate for your use case. To fix this, use a cross-validation technique resulting in properly stratified folds\n",
            "  RuntimeWarning,\n",
            "/usr/local/lib/python3.7/dist-packages/sklearn/model_selection/_split.py:680: UserWarning: The least populated class in y has only 1 members, which is less than n_splits=5.\n",
            "  UserWarning,\n",
            "/usr/local/lib/python3.7/dist-packages/sklearn/model_selection/_validation.py:1097: RuntimeWarning: Number of classes in training fold (25) does not match total number of classes (27). Results may not be appropriate for your use case. To fix this, use a cross-validation technique resulting in properly stratified folds\n",
            "  RuntimeWarning,\n",
            "/usr/local/lib/python3.7/dist-packages/sklearn/model_selection/_validation.py:1097: RuntimeWarning: Number of classes in training fold (25) does not match total number of classes (27). Results may not be appropriate for your use case. To fix this, use a cross-validation technique resulting in properly stratified folds\n",
            "  RuntimeWarning,\n",
            "/usr/local/lib/python3.7/dist-packages/sklearn/model_selection/_validation.py:1097: RuntimeWarning: Number of classes in training fold (26) does not match total number of classes (27). Results may not be appropriate for your use case. To fix this, use a cross-validation technique resulting in properly stratified folds\n",
            "  RuntimeWarning,\n",
            "/usr/local/lib/python3.7/dist-packages/sklearn/model_selection/_validation.py:1097: RuntimeWarning: Number of classes in training fold (26) does not match total number of classes (27). Results may not be appropriate for your use case. To fix this, use a cross-validation technique resulting in properly stratified folds\n",
            "  RuntimeWarning,\n",
            "/usr/local/lib/python3.7/dist-packages/sklearn/model_selection/_split.py:680: UserWarning: The least populated class in y has only 1 members, which is less than n_splits=5.\n",
            "  UserWarning,\n",
            "/usr/local/lib/python3.7/dist-packages/sklearn/model_selection/_validation.py:1097: RuntimeWarning: Number of classes in training fold (25) does not match total number of classes (27). Results may not be appropriate for your use case. To fix this, use a cross-validation technique resulting in properly stratified folds\n",
            "  RuntimeWarning,\n",
            "/usr/local/lib/python3.7/dist-packages/sklearn/model_selection/_validation.py:1097: RuntimeWarning: Number of classes in training fold (25) does not match total number of classes (27). Results may not be appropriate for your use case. To fix this, use a cross-validation technique resulting in properly stratified folds\n",
            "  RuntimeWarning,\n",
            "/usr/local/lib/python3.7/dist-packages/sklearn/model_selection/_validation.py:1097: RuntimeWarning: Number of classes in training fold (26) does not match total number of classes (27). Results may not be appropriate for your use case. To fix this, use a cross-validation technique resulting in properly stratified folds\n",
            "  RuntimeWarning,\n",
            "/usr/local/lib/python3.7/dist-packages/sklearn/model_selection/_validation.py:1097: RuntimeWarning: Number of classes in training fold (26) does not match total number of classes (27). Results may not be appropriate for your use case. To fix this, use a cross-validation technique resulting in properly stratified folds\n",
            "  RuntimeWarning,\n",
            "/usr/local/lib/python3.7/dist-packages/sklearn/linear_model/_logistic.py:818: ConvergenceWarning: lbfgs failed to converge (status=1):\n",
            "STOP: TOTAL NO. of ITERATIONS REACHED LIMIT.\n",
            "\n",
            "Increase the number of iterations (max_iter) or scale the data as shown in:\n",
            "    https://scikit-learn.org/stable/modules/preprocessing.html\n",
            "Please also refer to the documentation for alternative solver options:\n",
            "    https://scikit-learn.org/stable/modules/linear_model.html#logistic-regression\n",
            "  extra_warning_msg=_LOGISTIC_SOLVER_CONVERGENCE_MSG,\n",
            "/usr/local/lib/python3.7/dist-packages/sklearn/model_selection/_split.py:680: UserWarning: The least populated class in y has only 1 members, which is less than n_splits=5.\n",
            "  UserWarning,\n",
            "/usr/local/lib/python3.7/dist-packages/sklearn/model_selection/_validation.py:1097: RuntimeWarning: Number of classes in training fold (24) does not match total number of classes (25). Results may not be appropriate for your use case. To fix this, use a cross-validation technique resulting in properly stratified folds\n",
            "  RuntimeWarning,\n",
            "/usr/local/lib/python3.7/dist-packages/sklearn/model_selection/_validation.py:1097: RuntimeWarning: Number of classes in training fold (24) does not match total number of classes (25). Results may not be appropriate for your use case. To fix this, use a cross-validation technique resulting in properly stratified folds\n",
            "  RuntimeWarning,\n",
            "/usr/local/lib/python3.7/dist-packages/sklearn/model_selection/_split.py:680: UserWarning: The least populated class in y has only 1 members, which is less than n_splits=5.\n",
            "  UserWarning,\n",
            "/usr/local/lib/python3.7/dist-packages/sklearn/model_selection/_validation.py:1097: RuntimeWarning: Number of classes in training fold (24) does not match total number of classes (25). Results may not be appropriate for your use case. To fix this, use a cross-validation technique resulting in properly stratified folds\n",
            "  RuntimeWarning,\n",
            "/usr/local/lib/python3.7/dist-packages/sklearn/model_selection/_validation.py:1097: RuntimeWarning: Number of classes in training fold (24) does not match total number of classes (25). Results may not be appropriate for your use case. To fix this, use a cross-validation technique resulting in properly stratified folds\n",
            "  RuntimeWarning,\n",
            "/usr/local/lib/python3.7/dist-packages/sklearn/model_selection/_split.py:680: UserWarning: The least populated class in y has only 1 members, which is less than n_splits=5.\n",
            "  UserWarning,\n",
            "/usr/local/lib/python3.7/dist-packages/sklearn/model_selection/_validation.py:1097: RuntimeWarning: Number of classes in training fold (24) does not match total number of classes (25). Results may not be appropriate for your use case. To fix this, use a cross-validation technique resulting in properly stratified folds\n",
            "  RuntimeWarning,\n",
            "/usr/local/lib/python3.7/dist-packages/sklearn/model_selection/_validation.py:1097: RuntimeWarning: Number of classes in training fold (24) does not match total number of classes (25). Results may not be appropriate for your use case. To fix this, use a cross-validation technique resulting in properly stratified folds\n",
            "  RuntimeWarning,\n",
            "/usr/local/lib/python3.7/dist-packages/sklearn/linear_model/_logistic.py:818: ConvergenceWarning: lbfgs failed to converge (status=1):\n",
            "STOP: TOTAL NO. of ITERATIONS REACHED LIMIT.\n",
            "\n",
            "Increase the number of iterations (max_iter) or scale the data as shown in:\n",
            "    https://scikit-learn.org/stable/modules/preprocessing.html\n",
            "Please also refer to the documentation for alternative solver options:\n",
            "    https://scikit-learn.org/stable/modules/linear_model.html#logistic-regression\n",
            "  extra_warning_msg=_LOGISTIC_SOLVER_CONVERGENCE_MSG,\n",
            "/usr/local/lib/python3.7/dist-packages/sklearn/model_selection/_split.py:680: UserWarning: The least populated class in y has only 1 members, which is less than n_splits=5.\n",
            "  UserWarning,\n",
            "/usr/local/lib/python3.7/dist-packages/sklearn/model_selection/_validation.py:1097: RuntimeWarning: Number of classes in training fold (26) does not match total number of classes (27). Results may not be appropriate for your use case. To fix this, use a cross-validation technique resulting in properly stratified folds\n",
            "  RuntimeWarning,\n",
            "/usr/local/lib/python3.7/dist-packages/sklearn/model_selection/_validation.py:1097: RuntimeWarning: Number of classes in training fold (26) does not match total number of classes (27). Results may not be appropriate for your use case. To fix this, use a cross-validation technique resulting in properly stratified folds\n",
            "  RuntimeWarning,\n",
            "/usr/local/lib/python3.7/dist-packages/sklearn/model_selection/_validation.py:1097: RuntimeWarning: Number of classes in training fold (26) does not match total number of classes (27). Results may not be appropriate for your use case. To fix this, use a cross-validation technique resulting in properly stratified folds\n",
            "  RuntimeWarning,\n",
            "/usr/local/lib/python3.7/dist-packages/sklearn/model_selection/_validation.py:1097: RuntimeWarning: Number of classes in training fold (25) does not match total number of classes (27). Results may not be appropriate for your use case. To fix this, use a cross-validation technique resulting in properly stratified folds\n",
            "  RuntimeWarning,\n",
            "/usr/local/lib/python3.7/dist-packages/sklearn/model_selection/_validation.py:1097: RuntimeWarning: Number of classes in training fold (26) does not match total number of classes (27). Results may not be appropriate for your use case. To fix this, use a cross-validation technique resulting in properly stratified folds\n",
            "  RuntimeWarning,\n",
            "/usr/local/lib/python3.7/dist-packages/sklearn/model_selection/_split.py:680: UserWarning: The least populated class in y has only 1 members, which is less than n_splits=5.\n",
            "  UserWarning,\n",
            "/usr/local/lib/python3.7/dist-packages/sklearn/model_selection/_validation.py:1097: RuntimeWarning: Number of classes in training fold (26) does not match total number of classes (27). Results may not be appropriate for your use case. To fix this, use a cross-validation technique resulting in properly stratified folds\n",
            "  RuntimeWarning,\n",
            "/usr/local/lib/python3.7/dist-packages/sklearn/model_selection/_validation.py:1097: RuntimeWarning: Number of classes in training fold (26) does not match total number of classes (27). Results may not be appropriate for your use case. To fix this, use a cross-validation technique resulting in properly stratified folds\n",
            "  RuntimeWarning,\n",
            "/usr/local/lib/python3.7/dist-packages/sklearn/model_selection/_validation.py:1097: RuntimeWarning: Number of classes in training fold (26) does not match total number of classes (27). Results may not be appropriate for your use case. To fix this, use a cross-validation technique resulting in properly stratified folds\n",
            "  RuntimeWarning,\n",
            "/usr/local/lib/python3.7/dist-packages/sklearn/model_selection/_validation.py:1097: RuntimeWarning: Number of classes in training fold (25) does not match total number of classes (27). Results may not be appropriate for your use case. To fix this, use a cross-validation technique resulting in properly stratified folds\n",
            "  RuntimeWarning,\n",
            "/usr/local/lib/python3.7/dist-packages/sklearn/model_selection/_validation.py:1097: RuntimeWarning: Number of classes in training fold (26) does not match total number of classes (27). Results may not be appropriate for your use case. To fix this, use a cross-validation technique resulting in properly stratified folds\n",
            "  RuntimeWarning,\n",
            "/usr/local/lib/python3.7/dist-packages/sklearn/model_selection/_split.py:680: UserWarning: The least populated class in y has only 1 members, which is less than n_splits=5.\n",
            "  UserWarning,\n",
            "/usr/local/lib/python3.7/dist-packages/sklearn/model_selection/_validation.py:1097: RuntimeWarning: Number of classes in training fold (26) does not match total number of classes (27). Results may not be appropriate for your use case. To fix this, use a cross-validation technique resulting in properly stratified folds\n",
            "  RuntimeWarning,\n",
            "/usr/local/lib/python3.7/dist-packages/sklearn/model_selection/_validation.py:1097: RuntimeWarning: Number of classes in training fold (26) does not match total number of classes (27). Results may not be appropriate for your use case. To fix this, use a cross-validation technique resulting in properly stratified folds\n",
            "  RuntimeWarning,\n",
            "/usr/local/lib/python3.7/dist-packages/sklearn/model_selection/_validation.py:1097: RuntimeWarning: Number of classes in training fold (26) does not match total number of classes (27). Results may not be appropriate for your use case. To fix this, use a cross-validation technique resulting in properly stratified folds\n",
            "  RuntimeWarning,\n",
            "/usr/local/lib/python3.7/dist-packages/sklearn/model_selection/_validation.py:1097: RuntimeWarning: Number of classes in training fold (25) does not match total number of classes (27). Results may not be appropriate for your use case. To fix this, use a cross-validation technique resulting in properly stratified folds\n",
            "  RuntimeWarning,\n",
            "/usr/local/lib/python3.7/dist-packages/sklearn/model_selection/_validation.py:1097: RuntimeWarning: Number of classes in training fold (26) does not match total number of classes (27). Results may not be appropriate for your use case. To fix this, use a cross-validation technique resulting in properly stratified folds\n",
            "  RuntimeWarning,\n",
            "/usr/local/lib/python3.7/dist-packages/sklearn/linear_model/_logistic.py:818: ConvergenceWarning: lbfgs failed to converge (status=1):\n",
            "STOP: TOTAL NO. of ITERATIONS REACHED LIMIT.\n",
            "\n",
            "Increase the number of iterations (max_iter) or scale the data as shown in:\n",
            "    https://scikit-learn.org/stable/modules/preprocessing.html\n",
            "Please also refer to the documentation for alternative solver options:\n",
            "    https://scikit-learn.org/stable/modules/linear_model.html#logistic-regression\n",
            "  extra_warning_msg=_LOGISTIC_SOLVER_CONVERGENCE_MSG,\n"
          ]
        }
      ]
    },
    {
      "cell_type": "markdown",
      "source": [
        "#**PCA**"
      ],
      "metadata": {
        "id": "NXTL6hvGSsQA"
      }
    },
    {
      "cell_type": "code",
      "source": [
        "pca = PCA(n_components = 4)\n",
        "pca.fit(X)\n",
        "X_pca = pca.transform(X)"
      ],
      "metadata": {
        "id": "B5Ex-domNxza"
      },
      "execution_count": 68,
      "outputs": []
    },
    {
      "cell_type": "markdown",
      "source": [
        "**PCA - KNN**\n"
      ],
      "metadata": {
        "id": "Hx2TdptZYnGj"
      }
    },
    {
      "cell_type": "code",
      "source": [
        "#knn1\n",
        "scores = cross_validate(knn1, X_pca, y, cv=3, scoring=scoring)\n",
        "accuracy_mean['knn1_pca'] = scores['test_accuracy'].mean()\n",
        "accuracy_std['knn1_pca'] = scores['test_accuracy'].std()\n",
        "precision_mean['knn1_pca'] = scores['test_precision_micro'].mean()\n",
        "precision_std['knn1_pca'] = scores['test_precision_micro'].std()\n",
        "recall_mean['knn1_pca'] = scores['test_recall_micro'].mean()\n",
        "recall_std['knn1_pca'] = scores['test_recall_micro'].std()\n",
        "f_measure_mean['knn1_pca'] = scores['test_f1_micro'].mean()\n",
        "f_measure_std['knn1_pca'] = scores['test_f1_micro'].std()\n",
        "fit_time['knn1_pca'] = scores['fit_time'].mean()*1000\n",
        "\n",
        "#knn3\n",
        "scores = cross_validate(knn3, X_pca, y, cv=3, scoring=scoring)\n",
        "accuracy_mean['knn3_pca'] = scores['test_accuracy'].mean()\n",
        "accuracy_std['knn3_pca'] = scores['test_accuracy'].std()\n",
        "precision_mean['knn3_pca'] = scores['test_precision_micro'].mean()\n",
        "precision_std['knn3_pca'] = scores['test_precision_micro'].std()\n",
        "recall_mean['knn3_pca'] = scores['test_recall_micro'].mean()\n",
        "recall_std['knn3_pca'] = scores['test_recall_micro'].std()\n",
        "f_measure_mean['knn3_pca'] = scores['test_f1_micro'].mean()\n",
        "f_measure_std['knn3_pca'] = scores['test_f1_micro'].std()\n",
        "fit_time['knn3_pca'] = scores['fit_time'].mean()*1000\n",
        "\n",
        "#knn5\n",
        "scores = cross_validate(knn5, X_pca, y, cv=3, scoring=scoring)\n",
        "accuracy_mean['knn5_pca'] = scores['test_accuracy'].mean()\n",
        "accuracy_std['knn5_pca'] = scores['test_accuracy'].std()\n",
        "precision_mean['knn5_pca'] = scores['test_precision_micro'].mean()\n",
        "precision_std['knn5_pca'] = scores['test_precision_micro'].std()\n",
        "recall_mean['knn5_pca'] = scores['test_recall_micro'].mean()\n",
        "recall_std['knn5_pca'] = scores['test_recall_micro'].std()\n",
        "f_measure_mean['knn5_pca'] = scores['test_f1_micro'].mean()\n",
        "f_measure_std['knn5_pca'] = scores['test_f1_micro'].std()\n",
        "fit_time['knn5_pca'] = scores['fit_time'].mean()*1000"
      ],
      "metadata": {
        "colab": {
          "base_uri": "https://localhost:8080/"
        },
        "id": "LO7bo4CBNhWv",
        "outputId": "30e7abbe-7bfc-4076-c2b2-bc22b4b02f0d"
      },
      "execution_count": 69,
      "outputs": [
        {
          "output_type": "stream",
          "name": "stderr",
          "text": [
            "/usr/local/lib/python3.7/dist-packages/sklearn/model_selection/_split.py:680: UserWarning: The least populated class in y has only 1 members, which is less than n_splits=3.\n",
            "  UserWarning,\n",
            "/usr/local/lib/python3.7/dist-packages/sklearn/model_selection/_split.py:680: UserWarning: The least populated class in y has only 1 members, which is less than n_splits=3.\n",
            "  UserWarning,\n",
            "/usr/local/lib/python3.7/dist-packages/sklearn/model_selection/_split.py:680: UserWarning: The least populated class in y has only 1 members, which is less than n_splits=3.\n",
            "  UserWarning,\n"
          ]
        }
      ]
    },
    {
      "cell_type": "markdown",
      "source": [
        "**PCA - Decision Tree**"
      ],
      "metadata": {
        "id": "rdX0LhGUbJKG"
      }
    },
    {
      "cell_type": "code",
      "source": [
        "#Information Gain\n",
        "scores = cross_validate(DT_IG, X_pca, y, cv=3, scoring=scoring)\n",
        "accuracy_mean['DT_IG_pca'] = scores['test_accuracy'].mean()\n",
        "accuracy_std['DT_IG_pca'] = scores['test_accuracy'].std()\n",
        "precision_mean['DT_IG_pca'] = scores['test_precision_micro'].mean()\n",
        "precision_std['DT_IG_pca'] = scores['test_precision_micro'].std()\n",
        "recall_mean['DT_IG_pca'] = scores['test_recall_micro'].mean()\n",
        "recall_std['DT_IG_pca'] = scores['test_recall_micro'].std()\n",
        "f_measure_mean['DT_IG_pca'] = scores['test_f1_micro'].mean()\n",
        "f_measure_std['DT_IG_pca'] = scores['test_f1_micro'].std()\n",
        "fit_time['DT_IG_pca'] = scores['fit_time'].mean()*1000\n",
        "\n",
        "#Gini\n",
        "scores = cross_validate(DT_Gini, X_pca, y, cv=3, scoring=scoring)\n",
        "accuracy_mean['DT_Gini_pca'] = scores['test_accuracy'].mean()\n",
        "accuracy_std['DT_Gini_pca'] = scores['test_accuracy'].std()\n",
        "precision_mean['DT_Gini_pca'] = scores['test_precision_micro'].mean()\n",
        "precision_std['DT_Gini_pca'] = scores['test_precision_micro'].std()\n",
        "recall_mean['DT_Gini_pca'] = scores['test_recall_micro'].mean()\n",
        "recall_std['DT_Gini_pca'] = scores['test_recall_micro'].std()\n",
        "f_measure_mean['DT_Gini_pca'] = scores['test_f1_micro'].mean()\n",
        "f_measure_std['DT_Gini_pca'] = scores['test_f1_micro'].std()\n",
        "fit_time['DT_Gini_pca'] = scores['fit_time'].mean()*1000"
      ],
      "metadata": {
        "colab": {
          "base_uri": "https://localhost:8080/"
        },
        "id": "K0iXSqwedBVQ",
        "outputId": "de82a19c-bd1f-406b-f91d-2ffceade50f2"
      },
      "execution_count": 70,
      "outputs": [
        {
          "output_type": "stream",
          "name": "stderr",
          "text": [
            "/usr/local/lib/python3.7/dist-packages/sklearn/model_selection/_split.py:680: UserWarning: The least populated class in y has only 1 members, which is less than n_splits=3.\n",
            "  UserWarning,\n",
            "/usr/local/lib/python3.7/dist-packages/sklearn/model_selection/_split.py:680: UserWarning: The least populated class in y has only 1 members, which is less than n_splits=3.\n",
            "  UserWarning,\n"
          ]
        }
      ]
    },
    {
      "cell_type": "markdown",
      "source": [
        "**PCA - Naive Bayes**"
      ],
      "metadata": {
        "id": "1P3ocWXjbNTv"
      }
    },
    {
      "cell_type": "code",
      "source": [
        "#GaussianNB\n",
        "scores = cross_validate(NB, X_pca, y, cv=3, scoring=scoring)\n",
        "accuracy_mean['NB_pca'] = scores['test_accuracy'].mean()\n",
        "accuracy_std['NB_pca'] = scores['test_accuracy'].std()\n",
        "precision_mean['NB_pca'] = scores['test_precision_micro'].mean()\n",
        "precision_std['NB_pca'] = scores['test_precision_micro'].std()\n",
        "recall_mean['NB_pca'] = scores['test_recall_micro'].mean()\n",
        "recall_std['NB_pca'] = scores['test_recall_micro'].std()\n",
        "f_measure_mean['NB_pca'] = scores['test_f1_micro'].mean()\n",
        "f_measure_std['NB_pca'] = scores['test_f1_micro'].std()\n",
        "fit_time['NB_pca'] = scores['fit_time'].mean()*1000"
      ],
      "metadata": {
        "colab": {
          "base_uri": "https://localhost:8080/"
        },
        "id": "Kx2HyshxdCFN",
        "outputId": "e08d54a4-ced6-4f86-a766-df25d67eb54b"
      },
      "execution_count": 71,
      "outputs": [
        {
          "output_type": "stream",
          "name": "stderr",
          "text": [
            "/usr/local/lib/python3.7/dist-packages/sklearn/model_selection/_split.py:680: UserWarning: The least populated class in y has only 1 members, which is less than n_splits=3.\n",
            "  UserWarning,\n"
          ]
        }
      ]
    },
    {
      "cell_type": "markdown",
      "source": [
        "**PCA - SVM**"
      ],
      "metadata": {
        "id": "AitJQaJrbM-6"
      }
    },
    {
      "cell_type": "code",
      "source": [
        "#kernel = 'rbf'\n",
        "scores = cross_validate(Clsfr_rbf, X_pca, y, cv=3, scoring=scoring)\n",
        "accuracy_mean['Clsfr_rbf_pca'] = scores['test_accuracy'].mean()\n",
        "accuracy_std['Clsfr_rbf_pca'] = scores['test_accuracy'].std()\n",
        "precision_mean['Clsfr_rbf_pca'] = scores['test_precision_micro'].mean()\n",
        "precision_std['Clsfr_rbf_pca'] = scores['test_precision_micro'].std()\n",
        "recall_mean['Clsfr_rbf_pca'] = scores['test_recall_micro'].mean()\n",
        "recall_std['Clsfr_rbf_pca'] = scores['test_recall_micro'].std()\n",
        "f_measure_mean['Clsfr_rbf_pca'] = scores['test_f1_micro'].mean()\n",
        "f_measure_std['Clsfr_rbf_pca'] = scores['test_f1_micro'].std()\n",
        "fit_time['Clsfr_rbf_pca'] = scores['fit_time'].mean()*1000\n",
        "\n",
        "#kernel = 'poly'\n",
        "scores = cross_validate(Clsfr_poly, X_pca, y, cv=3, scoring=scoring)\n",
        "accuracy_mean['Clsfr_poly_pca'] = scores['test_accuracy'].mean()\n",
        "accuracy_std['Clsfr_poly_pca'] = scores['test_accuracy'].std()\n",
        "precision_mean['Clsfr_poly_pca'] = scores['test_precision_micro'].mean()\n",
        "precision_std['Clsfr_poly_pca'] = scores['test_precision_micro'].std()\n",
        "recall_mean['Clsfr_poly_pca'] = scores['test_recall_micro'].mean()\n",
        "recall_std['Clsfr_poly_pca'] = scores['test_recall_micro'].std()\n",
        "f_measure_mean['Clsfr_poly_pca'] = scores['test_f1_micro'].mean()\n",
        "f_measure_std['Clsfr_poly_pca'] = scores['test_f1_micro'].std()\n",
        "fit_time['Clsfr_poly_pca'] = scores['fit_time'].mean()*1000\n",
        "\n",
        "#kernel = 'sigmoid'\n",
        "scores = cross_validate(Clsfr_sigmoid, X_pca, y, cv=3, scoring=scoring)\n",
        "accuracy_mean['Clsfr_sigmoid_pca'] = scores['test_accuracy'].mean()\n",
        "accuracy_std['Clsfr_sigmoid_pca'] = scores['test_accuracy'].std()\n",
        "precision_mean['Clsfr_sigmoid_pca'] = scores['test_precision_micro'].mean()\n",
        "precision_std['Clsfr_sigmoid_pca'] = scores['test_precision_micro'].std()\n",
        "recall_mean['Clsfr_sigmoid_pca'] = scores['test_recall_micro'].mean()\n",
        "recall_std['Clsfr_sigmoid_pca'] = scores['test_recall_micro'].std()\n",
        "f_measure_mean['Clsfr_sigmoid_pca'] = scores['test_f1_micro'].mean()\n",
        "f_measure_std['Clsfr_sigmoid_pca'] = scores['test_f1_micro'].std()\n",
        "fit_time['Clsfr_sigmoid_pca'] = scores['fit_time'].mean()*1000"
      ],
      "metadata": {
        "colab": {
          "base_uri": "https://localhost:8080/"
        },
        "id": "EEiBuKLrdC5w",
        "outputId": "91e1ebe9-08c4-401f-ef4f-3dd43af021f6"
      },
      "execution_count": 72,
      "outputs": [
        {
          "output_type": "stream",
          "name": "stderr",
          "text": [
            "/usr/local/lib/python3.7/dist-packages/sklearn/model_selection/_split.py:680: UserWarning: The least populated class in y has only 1 members, which is less than n_splits=3.\n",
            "  UserWarning,\n",
            "/usr/local/lib/python3.7/dist-packages/sklearn/model_selection/_split.py:680: UserWarning: The least populated class in y has only 1 members, which is less than n_splits=3.\n",
            "  UserWarning,\n",
            "/usr/local/lib/python3.7/dist-packages/sklearn/model_selection/_split.py:680: UserWarning: The least populated class in y has only 1 members, which is less than n_splits=3.\n",
            "  UserWarning,\n"
          ]
        }
      ]
    },
    {
      "cell_type": "markdown",
      "source": [
        "**PCA - Ensemble**"
      ],
      "metadata": {
        "id": "UptjmHtIbq2-"
      }
    },
    {
      "cell_type": "code",
      "source": [
        "#ensemble\n",
        "scores = cross_validate(ensemble, X_pca, y, cv=3, scoring=scoring)\n",
        "accuracy_mean['ensemble_pca'] = scores['test_accuracy'].mean()\n",
        "accuracy_std['ensemble_pca'] = scores['test_accuracy'].std()\n",
        "precision_mean['ensemble_pca'] = scores['test_precision_micro'].mean()\n",
        "precision_std['ensemble_pca'] = scores['test_precision_micro'].std()\n",
        "recall_mean['ensemble_pca'] = scores['test_recall_micro'].mean()\n",
        "recall_std['ensemble_pca'] = scores['test_recall_micro'].std()\n",
        "f_measure_mean['ensemble_pca'] = scores['test_f1_micro'].mean()\n",
        "f_measure_std['ensemble_pca'] = scores['test_f1_micro'].std()\n",
        "fit_time['ensemble_pca'] = scores['fit_time'].mean()*1000"
      ],
      "metadata": {
        "colab": {
          "base_uri": "https://localhost:8080/"
        },
        "id": "JDJogiX7dEAC",
        "outputId": "0fae82b4-e0f0-4d4b-e41f-1e9f19a66511"
      },
      "execution_count": 73,
      "outputs": [
        {
          "output_type": "stream",
          "name": "stderr",
          "text": [
            "/usr/local/lib/python3.7/dist-packages/sklearn/model_selection/_split.py:680: UserWarning: The least populated class in y has only 1 members, which is less than n_splits=3.\n",
            "  UserWarning,\n",
            "/usr/local/lib/python3.7/dist-packages/sklearn/model_selection/_split.py:680: UserWarning: The least populated class in y has only 1 members, which is less than n_splits=5.\n",
            "  UserWarning,\n",
            "/usr/local/lib/python3.7/dist-packages/sklearn/model_selection/_validation.py:1097: RuntimeWarning: Number of classes in training fold (25) does not match total number of classes (27). Results may not be appropriate for your use case. To fix this, use a cross-validation technique resulting in properly stratified folds\n",
            "  RuntimeWarning,\n",
            "/usr/local/lib/python3.7/dist-packages/sklearn/model_selection/_validation.py:1097: RuntimeWarning: Number of classes in training fold (25) does not match total number of classes (27). Results may not be appropriate for your use case. To fix this, use a cross-validation technique resulting in properly stratified folds\n",
            "  RuntimeWarning,\n",
            "/usr/local/lib/python3.7/dist-packages/sklearn/model_selection/_validation.py:1097: RuntimeWarning: Number of classes in training fold (26) does not match total number of classes (27). Results may not be appropriate for your use case. To fix this, use a cross-validation technique resulting in properly stratified folds\n",
            "  RuntimeWarning,\n",
            "/usr/local/lib/python3.7/dist-packages/sklearn/model_selection/_validation.py:1097: RuntimeWarning: Number of classes in training fold (26) does not match total number of classes (27). Results may not be appropriate for your use case. To fix this, use a cross-validation technique resulting in properly stratified folds\n",
            "  RuntimeWarning,\n",
            "/usr/local/lib/python3.7/dist-packages/sklearn/model_selection/_split.py:680: UserWarning: The least populated class in y has only 1 members, which is less than n_splits=5.\n",
            "  UserWarning,\n",
            "/usr/local/lib/python3.7/dist-packages/sklearn/model_selection/_validation.py:1097: RuntimeWarning: Number of classes in training fold (25) does not match total number of classes (27). Results may not be appropriate for your use case. To fix this, use a cross-validation technique resulting in properly stratified folds\n",
            "  RuntimeWarning,\n",
            "/usr/local/lib/python3.7/dist-packages/sklearn/model_selection/_validation.py:1097: RuntimeWarning: Number of classes in training fold (25) does not match total number of classes (27). Results may not be appropriate for your use case. To fix this, use a cross-validation technique resulting in properly stratified folds\n",
            "  RuntimeWarning,\n",
            "/usr/local/lib/python3.7/dist-packages/sklearn/model_selection/_validation.py:1097: RuntimeWarning: Number of classes in training fold (26) does not match total number of classes (27). Results may not be appropriate for your use case. To fix this, use a cross-validation technique resulting in properly stratified folds\n",
            "  RuntimeWarning,\n",
            "/usr/local/lib/python3.7/dist-packages/sklearn/model_selection/_validation.py:1097: RuntimeWarning: Number of classes in training fold (26) does not match total number of classes (27). Results may not be appropriate for your use case. To fix this, use a cross-validation technique resulting in properly stratified folds\n",
            "  RuntimeWarning,\n",
            "/usr/local/lib/python3.7/dist-packages/sklearn/model_selection/_split.py:680: UserWarning: The least populated class in y has only 1 members, which is less than n_splits=5.\n",
            "  UserWarning,\n",
            "/usr/local/lib/python3.7/dist-packages/sklearn/model_selection/_validation.py:1097: RuntimeWarning: Number of classes in training fold (25) does not match total number of classes (27). Results may not be appropriate for your use case. To fix this, use a cross-validation technique resulting in properly stratified folds\n",
            "  RuntimeWarning,\n",
            "/usr/local/lib/python3.7/dist-packages/sklearn/model_selection/_validation.py:1097: RuntimeWarning: Number of classes in training fold (25) does not match total number of classes (27). Results may not be appropriate for your use case. To fix this, use a cross-validation technique resulting in properly stratified folds\n",
            "  RuntimeWarning,\n",
            "/usr/local/lib/python3.7/dist-packages/sklearn/model_selection/_validation.py:1097: RuntimeWarning: Number of classes in training fold (26) does not match total number of classes (27). Results may not be appropriate for your use case. To fix this, use a cross-validation technique resulting in properly stratified folds\n",
            "  RuntimeWarning,\n",
            "/usr/local/lib/python3.7/dist-packages/sklearn/model_selection/_validation.py:1097: RuntimeWarning: Number of classes in training fold (26) does not match total number of classes (27). Results may not be appropriate for your use case. To fix this, use a cross-validation technique resulting in properly stratified folds\n",
            "  RuntimeWarning,\n",
            "/usr/local/lib/python3.7/dist-packages/sklearn/linear_model/_logistic.py:818: ConvergenceWarning: lbfgs failed to converge (status=1):\n",
            "STOP: TOTAL NO. of ITERATIONS REACHED LIMIT.\n",
            "\n",
            "Increase the number of iterations (max_iter) or scale the data as shown in:\n",
            "    https://scikit-learn.org/stable/modules/preprocessing.html\n",
            "Please also refer to the documentation for alternative solver options:\n",
            "    https://scikit-learn.org/stable/modules/linear_model.html#logistic-regression\n",
            "  extra_warning_msg=_LOGISTIC_SOLVER_CONVERGENCE_MSG,\n",
            "/usr/local/lib/python3.7/dist-packages/sklearn/model_selection/_split.py:680: UserWarning: The least populated class in y has only 1 members, which is less than n_splits=5.\n",
            "  UserWarning,\n",
            "/usr/local/lib/python3.7/dist-packages/sklearn/model_selection/_validation.py:1097: RuntimeWarning: Number of classes in training fold (24) does not match total number of classes (25). Results may not be appropriate for your use case. To fix this, use a cross-validation technique resulting in properly stratified folds\n",
            "  RuntimeWarning,\n",
            "/usr/local/lib/python3.7/dist-packages/sklearn/model_selection/_validation.py:1097: RuntimeWarning: Number of classes in training fold (24) does not match total number of classes (25). Results may not be appropriate for your use case. To fix this, use a cross-validation technique resulting in properly stratified folds\n",
            "  RuntimeWarning,\n",
            "/usr/local/lib/python3.7/dist-packages/sklearn/model_selection/_split.py:680: UserWarning: The least populated class in y has only 1 members, which is less than n_splits=5.\n",
            "  UserWarning,\n",
            "/usr/local/lib/python3.7/dist-packages/sklearn/model_selection/_validation.py:1097: RuntimeWarning: Number of classes in training fold (24) does not match total number of classes (25). Results may not be appropriate for your use case. To fix this, use a cross-validation technique resulting in properly stratified folds\n",
            "  RuntimeWarning,\n",
            "/usr/local/lib/python3.7/dist-packages/sklearn/model_selection/_validation.py:1097: RuntimeWarning: Number of classes in training fold (24) does not match total number of classes (25). Results may not be appropriate for your use case. To fix this, use a cross-validation technique resulting in properly stratified folds\n",
            "  RuntimeWarning,\n",
            "/usr/local/lib/python3.7/dist-packages/sklearn/model_selection/_split.py:680: UserWarning: The least populated class in y has only 1 members, which is less than n_splits=5.\n",
            "  UserWarning,\n",
            "/usr/local/lib/python3.7/dist-packages/sklearn/model_selection/_validation.py:1097: RuntimeWarning: Number of classes in training fold (24) does not match total number of classes (25). Results may not be appropriate for your use case. To fix this, use a cross-validation technique resulting in properly stratified folds\n",
            "  RuntimeWarning,\n",
            "/usr/local/lib/python3.7/dist-packages/sklearn/model_selection/_validation.py:1097: RuntimeWarning: Number of classes in training fold (24) does not match total number of classes (25). Results may not be appropriate for your use case. To fix this, use a cross-validation technique resulting in properly stratified folds\n",
            "  RuntimeWarning,\n",
            "/usr/local/lib/python3.7/dist-packages/sklearn/linear_model/_logistic.py:818: ConvergenceWarning: lbfgs failed to converge (status=1):\n",
            "STOP: TOTAL NO. of ITERATIONS REACHED LIMIT.\n",
            "\n",
            "Increase the number of iterations (max_iter) or scale the data as shown in:\n",
            "    https://scikit-learn.org/stable/modules/preprocessing.html\n",
            "Please also refer to the documentation for alternative solver options:\n",
            "    https://scikit-learn.org/stable/modules/linear_model.html#logistic-regression\n",
            "  extra_warning_msg=_LOGISTIC_SOLVER_CONVERGENCE_MSG,\n",
            "/usr/local/lib/python3.7/dist-packages/sklearn/model_selection/_split.py:680: UserWarning: The least populated class in y has only 1 members, which is less than n_splits=5.\n",
            "  UserWarning,\n",
            "/usr/local/lib/python3.7/dist-packages/sklearn/model_selection/_validation.py:1097: RuntimeWarning: Number of classes in training fold (26) does not match total number of classes (27). Results may not be appropriate for your use case. To fix this, use a cross-validation technique resulting in properly stratified folds\n",
            "  RuntimeWarning,\n",
            "/usr/local/lib/python3.7/dist-packages/sklearn/model_selection/_validation.py:1097: RuntimeWarning: Number of classes in training fold (26) does not match total number of classes (27). Results may not be appropriate for your use case. To fix this, use a cross-validation technique resulting in properly stratified folds\n",
            "  RuntimeWarning,\n",
            "/usr/local/lib/python3.7/dist-packages/sklearn/model_selection/_validation.py:1097: RuntimeWarning: Number of classes in training fold (26) does not match total number of classes (27). Results may not be appropriate for your use case. To fix this, use a cross-validation technique resulting in properly stratified folds\n",
            "  RuntimeWarning,\n",
            "/usr/local/lib/python3.7/dist-packages/sklearn/model_selection/_validation.py:1097: RuntimeWarning: Number of classes in training fold (25) does not match total number of classes (27). Results may not be appropriate for your use case. To fix this, use a cross-validation technique resulting in properly stratified folds\n",
            "  RuntimeWarning,\n",
            "/usr/local/lib/python3.7/dist-packages/sklearn/model_selection/_validation.py:1097: RuntimeWarning: Number of classes in training fold (26) does not match total number of classes (27). Results may not be appropriate for your use case. To fix this, use a cross-validation technique resulting in properly stratified folds\n",
            "  RuntimeWarning,\n",
            "/usr/local/lib/python3.7/dist-packages/sklearn/model_selection/_split.py:680: UserWarning: The least populated class in y has only 1 members, which is less than n_splits=5.\n",
            "  UserWarning,\n",
            "/usr/local/lib/python3.7/dist-packages/sklearn/model_selection/_validation.py:1097: RuntimeWarning: Number of classes in training fold (26) does not match total number of classes (27). Results may not be appropriate for your use case. To fix this, use a cross-validation technique resulting in properly stratified folds\n",
            "  RuntimeWarning,\n",
            "/usr/local/lib/python3.7/dist-packages/sklearn/model_selection/_validation.py:1097: RuntimeWarning: Number of classes in training fold (26) does not match total number of classes (27). Results may not be appropriate for your use case. To fix this, use a cross-validation technique resulting in properly stratified folds\n",
            "  RuntimeWarning,\n",
            "/usr/local/lib/python3.7/dist-packages/sklearn/model_selection/_validation.py:1097: RuntimeWarning: Number of classes in training fold (26) does not match total number of classes (27). Results may not be appropriate for your use case. To fix this, use a cross-validation technique resulting in properly stratified folds\n",
            "  RuntimeWarning,\n",
            "/usr/local/lib/python3.7/dist-packages/sklearn/model_selection/_validation.py:1097: RuntimeWarning: Number of classes in training fold (25) does not match total number of classes (27). Results may not be appropriate for your use case. To fix this, use a cross-validation technique resulting in properly stratified folds\n",
            "  RuntimeWarning,\n",
            "/usr/local/lib/python3.7/dist-packages/sklearn/model_selection/_validation.py:1097: RuntimeWarning: Number of classes in training fold (26) does not match total number of classes (27). Results may not be appropriate for your use case. To fix this, use a cross-validation technique resulting in properly stratified folds\n",
            "  RuntimeWarning,\n",
            "/usr/local/lib/python3.7/dist-packages/sklearn/model_selection/_split.py:680: UserWarning: The least populated class in y has only 1 members, which is less than n_splits=5.\n",
            "  UserWarning,\n",
            "/usr/local/lib/python3.7/dist-packages/sklearn/model_selection/_validation.py:1097: RuntimeWarning: Number of classes in training fold (26) does not match total number of classes (27). Results may not be appropriate for your use case. To fix this, use a cross-validation technique resulting in properly stratified folds\n",
            "  RuntimeWarning,\n",
            "/usr/local/lib/python3.7/dist-packages/sklearn/model_selection/_validation.py:1097: RuntimeWarning: Number of classes in training fold (26) does not match total number of classes (27). Results may not be appropriate for your use case. To fix this, use a cross-validation technique resulting in properly stratified folds\n",
            "  RuntimeWarning,\n",
            "/usr/local/lib/python3.7/dist-packages/sklearn/model_selection/_validation.py:1097: RuntimeWarning: Number of classes in training fold (26) does not match total number of classes (27). Results may not be appropriate for your use case. To fix this, use a cross-validation technique resulting in properly stratified folds\n",
            "  RuntimeWarning,\n",
            "/usr/local/lib/python3.7/dist-packages/sklearn/model_selection/_validation.py:1097: RuntimeWarning: Number of classes in training fold (25) does not match total number of classes (27). Results may not be appropriate for your use case. To fix this, use a cross-validation technique resulting in properly stratified folds\n",
            "  RuntimeWarning,\n",
            "/usr/local/lib/python3.7/dist-packages/sklearn/model_selection/_validation.py:1097: RuntimeWarning: Number of classes in training fold (26) does not match total number of classes (27). Results may not be appropriate for your use case. To fix this, use a cross-validation technique resulting in properly stratified folds\n",
            "  RuntimeWarning,\n",
            "/usr/local/lib/python3.7/dist-packages/sklearn/linear_model/_logistic.py:818: ConvergenceWarning: lbfgs failed to converge (status=1):\n",
            "STOP: TOTAL NO. of ITERATIONS REACHED LIMIT.\n",
            "\n",
            "Increase the number of iterations (max_iter) or scale the data as shown in:\n",
            "    https://scikit-learn.org/stable/modules/preprocessing.html\n",
            "Please also refer to the documentation for alternative solver options:\n",
            "    https://scikit-learn.org/stable/modules/linear_model.html#logistic-regression\n",
            "  extra_warning_msg=_LOGISTIC_SOLVER_CONVERGENCE_MSG,\n"
          ]
        }
      ]
    },
    {
      "cell_type": "markdown",
      "source": [
        "# **LDA**"
      ],
      "metadata": {
        "id": "5pw1RmRIb1_V"
      }
    },
    {
      "cell_type": "code",
      "source": [
        "lda = LinearDiscriminantAnalysis(n_components=4)\n",
        "X_lda = lda.fit(X, y).transform(X)"
      ],
      "metadata": {
        "id": "0URYE2gn2CQX"
      },
      "execution_count": 74,
      "outputs": []
    },
    {
      "cell_type": "markdown",
      "source": [
        "**LDA - KNN**"
      ],
      "metadata": {
        "id": "06uuKY5kcwcK"
      }
    },
    {
      "cell_type": "code",
      "source": [
        "#knn1\n",
        "scores = cross_validate(knn1, X_lda, y, cv=3, scoring=scoring)\n",
        "accuracy_mean['knn1_lda'] = scores['test_accuracy'].mean()\n",
        "accuracy_std['knn1_lda'] = scores['test_accuracy'].std()\n",
        "precision_mean['knn1_lda'] = scores['test_precision_micro'].mean()\n",
        "precision_std['knn1_lda'] = scores['test_precision_micro'].std()\n",
        "recall_mean['knn1_lda'] = scores['test_recall_micro'].mean()\n",
        "recall_std['knn1_lda'] = scores['test_recall_micro'].std()\n",
        "f_measure_mean['knn1_lda'] = scores['test_f1_micro'].mean()\n",
        "f_measure_std['knn1_lda'] = scores['test_f1_micro'].std()\n",
        "fit_time['knn1_lda'] = scores['fit_time'].mean()*1000\n",
        "\n",
        "#knn3\n",
        "scores = cross_validate(knn3, X_lda, y, cv=3, scoring=scoring)\n",
        "accuracy_mean['knn3_lda'] = scores['test_accuracy'].mean()\n",
        "accuracy_std['knn3_lda'] = scores['test_accuracy'].std()\n",
        "precision_mean['knn3_lda'] = scores['test_precision_micro'].mean()\n",
        "precision_std['knn3_lda'] = scores['test_precision_micro'].std()\n",
        "recall_mean['knn3_lda'] = scores['test_recall_micro'].mean()\n",
        "recall_std['knn3_lda'] = scores['test_recall_micro'].std()\n",
        "f_measure_mean['knn3_lda'] = scores['test_f1_micro'].mean()\n",
        "f_measure_std['knn3_lda'] = scores['test_f1_micro'].std()\n",
        "fit_time['knn3_lda'] = scores['fit_time'].mean()*1000\n",
        "\n",
        "#knn5\n",
        "scores = cross_validate(knn5, X_lda, y, cv=3, scoring=scoring)\n",
        "accuracy_mean['knn5_lda'] = scores['test_accuracy'].mean()\n",
        "accuracy_std['knn5_lda'] = scores['test_accuracy'].std()\n",
        "precision_mean['knn5_lda'] = scores['test_precision_micro'].mean()\n",
        "precision_std['knn5_lda'] = scores['test_precision_micro'].std()\n",
        "recall_mean['knn5_lda'] = scores['test_recall_micro'].mean()\n",
        "recall_std['knn5_lda'] = scores['test_recall_micro'].std()\n",
        "f_measure_mean['knn5_lda'] = scores['test_f1_micro'].mean()\n",
        "f_measure_std['knn5_lda'] = scores['test_f1_micro'].std()\n",
        "fit_time['knn5_lda'] = scores['fit_time'].mean()*1000"
      ],
      "metadata": {
        "colab": {
          "base_uri": "https://localhost:8080/"
        },
        "id": "m5FGOoqhdE5C",
        "outputId": "79a0c50b-8039-4e1c-bad1-ebe1c4ae35f7"
      },
      "execution_count": 75,
      "outputs": [
        {
          "output_type": "stream",
          "name": "stderr",
          "text": [
            "/usr/local/lib/python3.7/dist-packages/sklearn/model_selection/_split.py:680: UserWarning: The least populated class in y has only 1 members, which is less than n_splits=3.\n",
            "  UserWarning,\n",
            "/usr/local/lib/python3.7/dist-packages/sklearn/model_selection/_split.py:680: UserWarning: The least populated class in y has only 1 members, which is less than n_splits=3.\n",
            "  UserWarning,\n",
            "/usr/local/lib/python3.7/dist-packages/sklearn/model_selection/_split.py:680: UserWarning: The least populated class in y has only 1 members, which is less than n_splits=3.\n",
            "  UserWarning,\n"
          ]
        }
      ]
    },
    {
      "cell_type": "markdown",
      "source": [
        "**LDA - Decision Tree**"
      ],
      "metadata": {
        "id": "OVC6I7Hwb4Zb"
      }
    },
    {
      "cell_type": "code",
      "source": [
        "#Information Gain\n",
        "scores = cross_validate(DT_IG, X_lda, y, cv=3, scoring=scoring)\n",
        "accuracy_mean['DT_IG_lda'] = scores['test_accuracy'].mean()\n",
        "accuracy_std['DT_IG_lda'] = scores['test_accuracy'].std()\n",
        "precision_mean['DT_IG_lda'] = scores['test_precision_micro'].mean()\n",
        "precision_std['DT_IG_lda'] = scores['test_precision_micro'].std()\n",
        "recall_mean['DT_IG_lda'] = scores['test_recall_micro'].mean()\n",
        "recall_std['DT_IG_lda'] = scores['test_recall_micro'].std()\n",
        "f_measure_mean['DT_IG_lda'] = scores['test_f1_micro'].mean()\n",
        "f_measure_std['DT_IG_lda'] = scores['test_f1_micro'].std()\n",
        "fit_time['DT_IG_lda'] = scores['fit_time'].mean()*1000\n",
        "\n",
        "#Gini\n",
        "scores = cross_validate(DT_Gini, X_lda, y, cv=3, scoring=scoring)\n",
        "accuracy_mean['DT_Gini_lda'] = scores['test_accuracy'].mean()\n",
        "accuracy_std['DT_Gini_lda'] = scores['test_accuracy'].std()\n",
        "precision_mean['DT_Gini_lda'] = scores['test_precision_micro'].mean()\n",
        "precision_std['DT_Gini_lda'] = scores['test_precision_micro'].std()\n",
        "recall_mean['DT_Gini_lda'] = scores['test_recall_micro'].mean()\n",
        "recall_std['DT_Gini_lda'] = scores['test_recall_micro'].std()\n",
        "f_measure_mean['DT_Gini_lda'] = scores['test_f1_micro'].mean()\n",
        "f_measure_std['DT_Gini_lda'] = scores['test_f1_micro'].std()\n",
        "fit_time['DT_Gini_lda'] = scores['fit_time'].mean()*1000"
      ],
      "metadata": {
        "colab": {
          "base_uri": "https://localhost:8080/"
        },
        "id": "3MByRQKCdFoU",
        "outputId": "bdc8355f-ea5b-4cdc-885d-378983064d6b"
      },
      "execution_count": 76,
      "outputs": [
        {
          "output_type": "stream",
          "name": "stderr",
          "text": [
            "/usr/local/lib/python3.7/dist-packages/sklearn/model_selection/_split.py:680: UserWarning: The least populated class in y has only 1 members, which is less than n_splits=3.\n",
            "  UserWarning,\n",
            "/usr/local/lib/python3.7/dist-packages/sklearn/model_selection/_split.py:680: UserWarning: The least populated class in y has only 1 members, which is less than n_splits=3.\n",
            "  UserWarning,\n"
          ]
        }
      ]
    },
    {
      "cell_type": "markdown",
      "source": [
        "**LDA - Naive Bayes**"
      ],
      "metadata": {
        "id": "VmjqMwJDb6-f"
      }
    },
    {
      "cell_type": "code",
      "source": [
        "#GaussianNB\n",
        "scores = cross_validate(NB, X_lda, y, cv=3, scoring=scoring)\n",
        "accuracy_mean['NB_lda'] = scores['test_accuracy'].mean()\n",
        "accuracy_std['NB_lda'] = scores['test_accuracy'].std()\n",
        "precision_mean['NB_lda'] = scores['test_precision_micro'].mean()\n",
        "precision_std['NB_lda'] = scores['test_precision_micro'].std()\n",
        "recall_mean['NB_lda'] = scores['test_recall_micro'].mean()\n",
        "recall_std['NB_lda'] = scores['test_recall_micro'].std()\n",
        "f_measure_mean['NB_lda'] = scores['test_f1_micro'].mean()\n",
        "f_measure_std['NB_lda'] = scores['test_f1_micro'].std()\n",
        "fit_time['NB_lda'] = scores['fit_time'].mean()*1000"
      ],
      "metadata": {
        "colab": {
          "base_uri": "https://localhost:8080/"
        },
        "id": "Jjaz5o0WdGf5",
        "outputId": "4c1de9b2-8579-4bdb-e622-ca90f932381d"
      },
      "execution_count": 77,
      "outputs": [
        {
          "output_type": "stream",
          "name": "stderr",
          "text": [
            "/usr/local/lib/python3.7/dist-packages/sklearn/model_selection/_split.py:680: UserWarning: The least populated class in y has only 1 members, which is less than n_splits=3.\n",
            "  UserWarning,\n"
          ]
        }
      ]
    },
    {
      "cell_type": "markdown",
      "source": [
        "**LDA - SVM**"
      ],
      "metadata": {
        "id": "zj8zbXNyb9QQ"
      }
    },
    {
      "cell_type": "code",
      "source": [
        "#kernel = 'rbf'\n",
        "scores = cross_validate(Clsfr_rbf, X_lda, y, cv=3, scoring=scoring)\n",
        "accuracy_mean['Clsfr_rbf_lda'] = scores['test_accuracy'].mean()\n",
        "accuracy_std['Clsfr_rbf_lda'] = scores['test_accuracy'].std()\n",
        "precision_mean['Clsfr_rbf_lda'] = scores['test_precision_micro'].mean()\n",
        "precision_std['Clsfr_rbf_lda'] = scores['test_precision_micro'].std()\n",
        "recall_mean['Clsfr_rbf_lda'] = scores['test_recall_micro'].mean()\n",
        "recall_std['Clsfr_rbf_lda'] = scores['test_recall_micro'].std()\n",
        "f_measure_mean['Clsfr_rbf_lda'] = scores['test_f1_micro'].mean()\n",
        "f_measure_std['Clsfr_rbf_lda'] = scores['test_f1_micro'].std()\n",
        "fit_time['Clsfr_rbf_lda'] = scores['fit_time'].mean()*1000\n",
        "\n",
        "#kernel = 'poly'\n",
        "scores = cross_validate(Clsfr_poly, X_lda, y, cv=3, scoring=scoring)\n",
        "accuracy_mean['Clsfr_poly_lda'] = scores['test_accuracy'].mean()\n",
        "accuracy_std['Clsfr_poly_lda'] = scores['test_accuracy'].std()\n",
        "precision_mean['Clsfr_poly_lda'] = scores['test_precision_micro'].mean()\n",
        "precision_std['Clsfr_poly_lda'] = scores['test_precision_micro'].std()\n",
        "recall_mean['Clsfr_poly_lda'] = scores['test_recall_micro'].mean()\n",
        "recall_std['Clsfr_poly_lda'] = scores['test_recall_micro'].std()\n",
        "f_measure_mean['Clsfr_poly_lda'] = scores['test_f1_micro'].mean()\n",
        "f_measure_std['Clsfr_poly_lda'] = scores['test_f1_micro'].std()\n",
        "fit_time['Clsfr_poly_lda'] = scores['fit_time'].mean()*1000\n",
        "\n",
        "#kernel = 'sigmoid'\n",
        "scores = cross_validate(Clsfr_sigmoid, X_lda, y, cv=3, scoring=scoring)\n",
        "accuracy_mean['Clsfr_sigmoid_lda'] = scores['test_accuracy'].mean()\n",
        "accuracy_std['Clsfr_sigmoid_lda'] = scores['test_accuracy'].std()\n",
        "precision_mean['Clsfr_sigmoid_lda'] = scores['test_precision_micro'].mean()\n",
        "precision_std['Clsfr_sigmoid_lda'] = scores['test_precision_micro'].std()\n",
        "recall_mean['Clsfr_sigmoid_lda'] = scores['test_recall_micro'].mean()\n",
        "recall_std['Clsfr_sigmoid_lda'] = scores['test_recall_micro'].std()\n",
        "f_measure_mean['Clsfr_sigmoid_lda'] = scores['test_f1_micro'].mean()\n",
        "f_measure_std['Clsfr_sigmoid_lda'] = scores['test_f1_micro'].std()\n",
        "fit_time['Clsfr_sigmoid_lda'] = scores['fit_time'].mean()*1000"
      ],
      "metadata": {
        "colab": {
          "base_uri": "https://localhost:8080/"
        },
        "id": "rEtsdmWgdHai",
        "outputId": "5bfb5c44-38b4-45c8-8e1b-3725cb011bcf"
      },
      "execution_count": 78,
      "outputs": [
        {
          "output_type": "stream",
          "name": "stderr",
          "text": [
            "/usr/local/lib/python3.7/dist-packages/sklearn/model_selection/_split.py:680: UserWarning: The least populated class in y has only 1 members, which is less than n_splits=3.\n",
            "  UserWarning,\n",
            "/usr/local/lib/python3.7/dist-packages/sklearn/model_selection/_split.py:680: UserWarning: The least populated class in y has only 1 members, which is less than n_splits=3.\n",
            "  UserWarning,\n",
            "/usr/local/lib/python3.7/dist-packages/sklearn/model_selection/_split.py:680: UserWarning: The least populated class in y has only 1 members, which is less than n_splits=3.\n",
            "  UserWarning,\n"
          ]
        }
      ]
    },
    {
      "cell_type": "markdown",
      "source": [
        "**LDA - Ensemble**"
      ],
      "metadata": {
        "id": "p4NSMxppb_Y-"
      }
    },
    {
      "cell_type": "code",
      "source": [
        "#ensemble\n",
        "scores = cross_validate(ensemble, X_lda, y, cv=3, scoring=scoring)\n",
        "accuracy_mean['ensemble_lda'] = scores['test_accuracy'].mean()\n",
        "accuracy_std['ensemble_lda'] = scores['test_accuracy'].std()\n",
        "precision_mean['ensemble_lda'] = scores['test_precision_micro'].mean()\n",
        "precision_std['ensemble_lda'] = scores['test_precision_micro'].std()\n",
        "recall_mean['ensemble_lda'] = scores['test_recall_micro'].mean()\n",
        "recall_std['ensemble_lda'] = scores['test_recall_micro'].std()\n",
        "f_measure_mean['ensemble_lda'] = scores['test_f1_micro'].mean()\n",
        "f_measure_std['ensemble_lda'] = scores['test_f1_micro'].std()\n",
        "fit_time['ensemble_lda'] = scores['fit_time'].mean()*1000"
      ],
      "metadata": {
        "colab": {
          "base_uri": "https://localhost:8080/"
        },
        "id": "C9dZdb-AdIJe",
        "outputId": "f865945a-a1c4-4402-bb27-87e63b36db8d"
      },
      "execution_count": 79,
      "outputs": [
        {
          "output_type": "stream",
          "name": "stderr",
          "text": [
            "/usr/local/lib/python3.7/dist-packages/sklearn/model_selection/_split.py:680: UserWarning: The least populated class in y has only 1 members, which is less than n_splits=3.\n",
            "  UserWarning,\n",
            "/usr/local/lib/python3.7/dist-packages/sklearn/model_selection/_split.py:680: UserWarning: The least populated class in y has only 1 members, which is less than n_splits=5.\n",
            "  UserWarning,\n",
            "/usr/local/lib/python3.7/dist-packages/sklearn/model_selection/_validation.py:1097: RuntimeWarning: Number of classes in training fold (25) does not match total number of classes (27). Results may not be appropriate for your use case. To fix this, use a cross-validation technique resulting in properly stratified folds\n",
            "  RuntimeWarning,\n",
            "/usr/local/lib/python3.7/dist-packages/sklearn/model_selection/_validation.py:1097: RuntimeWarning: Number of classes in training fold (25) does not match total number of classes (27). Results may not be appropriate for your use case. To fix this, use a cross-validation technique resulting in properly stratified folds\n",
            "  RuntimeWarning,\n",
            "/usr/local/lib/python3.7/dist-packages/sklearn/model_selection/_validation.py:1097: RuntimeWarning: Number of classes in training fold (26) does not match total number of classes (27). Results may not be appropriate for your use case. To fix this, use a cross-validation technique resulting in properly stratified folds\n",
            "  RuntimeWarning,\n",
            "/usr/local/lib/python3.7/dist-packages/sklearn/model_selection/_validation.py:1097: RuntimeWarning: Number of classes in training fold (26) does not match total number of classes (27). Results may not be appropriate for your use case. To fix this, use a cross-validation technique resulting in properly stratified folds\n",
            "  RuntimeWarning,\n",
            "/usr/local/lib/python3.7/dist-packages/sklearn/model_selection/_split.py:680: UserWarning: The least populated class in y has only 1 members, which is less than n_splits=5.\n",
            "  UserWarning,\n",
            "/usr/local/lib/python3.7/dist-packages/sklearn/model_selection/_validation.py:1097: RuntimeWarning: Number of classes in training fold (25) does not match total number of classes (27). Results may not be appropriate for your use case. To fix this, use a cross-validation technique resulting in properly stratified folds\n",
            "  RuntimeWarning,\n",
            "/usr/local/lib/python3.7/dist-packages/sklearn/model_selection/_validation.py:1097: RuntimeWarning: Number of classes in training fold (25) does not match total number of classes (27). Results may not be appropriate for your use case. To fix this, use a cross-validation technique resulting in properly stratified folds\n",
            "  RuntimeWarning,\n",
            "/usr/local/lib/python3.7/dist-packages/sklearn/model_selection/_validation.py:1097: RuntimeWarning: Number of classes in training fold (26) does not match total number of classes (27). Results may not be appropriate for your use case. To fix this, use a cross-validation technique resulting in properly stratified folds\n",
            "  RuntimeWarning,\n",
            "/usr/local/lib/python3.7/dist-packages/sklearn/model_selection/_validation.py:1097: RuntimeWarning: Number of classes in training fold (26) does not match total number of classes (27). Results may not be appropriate for your use case. To fix this, use a cross-validation technique resulting in properly stratified folds\n",
            "  RuntimeWarning,\n",
            "/usr/local/lib/python3.7/dist-packages/sklearn/model_selection/_split.py:680: UserWarning: The least populated class in y has only 1 members, which is less than n_splits=5.\n",
            "  UserWarning,\n",
            "/usr/local/lib/python3.7/dist-packages/sklearn/model_selection/_validation.py:1097: RuntimeWarning: Number of classes in training fold (25) does not match total number of classes (27). Results may not be appropriate for your use case. To fix this, use a cross-validation technique resulting in properly stratified folds\n",
            "  RuntimeWarning,\n",
            "/usr/local/lib/python3.7/dist-packages/sklearn/model_selection/_validation.py:1097: RuntimeWarning: Number of classes in training fold (25) does not match total number of classes (27). Results may not be appropriate for your use case. To fix this, use a cross-validation technique resulting in properly stratified folds\n",
            "  RuntimeWarning,\n",
            "/usr/local/lib/python3.7/dist-packages/sklearn/model_selection/_validation.py:1097: RuntimeWarning: Number of classes in training fold (26) does not match total number of classes (27). Results may not be appropriate for your use case. To fix this, use a cross-validation technique resulting in properly stratified folds\n",
            "  RuntimeWarning,\n",
            "/usr/local/lib/python3.7/dist-packages/sklearn/model_selection/_validation.py:1097: RuntimeWarning: Number of classes in training fold (26) does not match total number of classes (27). Results may not be appropriate for your use case. To fix this, use a cross-validation technique resulting in properly stratified folds\n",
            "  RuntimeWarning,\n",
            "/usr/local/lib/python3.7/dist-packages/sklearn/linear_model/_logistic.py:818: ConvergenceWarning: lbfgs failed to converge (status=1):\n",
            "STOP: TOTAL NO. of ITERATIONS REACHED LIMIT.\n",
            "\n",
            "Increase the number of iterations (max_iter) or scale the data as shown in:\n",
            "    https://scikit-learn.org/stable/modules/preprocessing.html\n",
            "Please also refer to the documentation for alternative solver options:\n",
            "    https://scikit-learn.org/stable/modules/linear_model.html#logistic-regression\n",
            "  extra_warning_msg=_LOGISTIC_SOLVER_CONVERGENCE_MSG,\n",
            "/usr/local/lib/python3.7/dist-packages/sklearn/model_selection/_split.py:680: UserWarning: The least populated class in y has only 1 members, which is less than n_splits=5.\n",
            "  UserWarning,\n",
            "/usr/local/lib/python3.7/dist-packages/sklearn/model_selection/_validation.py:1097: RuntimeWarning: Number of classes in training fold (24) does not match total number of classes (25). Results may not be appropriate for your use case. To fix this, use a cross-validation technique resulting in properly stratified folds\n",
            "  RuntimeWarning,\n",
            "/usr/local/lib/python3.7/dist-packages/sklearn/model_selection/_validation.py:1097: RuntimeWarning: Number of classes in training fold (24) does not match total number of classes (25). Results may not be appropriate for your use case. To fix this, use a cross-validation technique resulting in properly stratified folds\n",
            "  RuntimeWarning,\n",
            "/usr/local/lib/python3.7/dist-packages/sklearn/model_selection/_split.py:680: UserWarning: The least populated class in y has only 1 members, which is less than n_splits=5.\n",
            "  UserWarning,\n",
            "/usr/local/lib/python3.7/dist-packages/sklearn/model_selection/_validation.py:1097: RuntimeWarning: Number of classes in training fold (24) does not match total number of classes (25). Results may not be appropriate for your use case. To fix this, use a cross-validation technique resulting in properly stratified folds\n",
            "  RuntimeWarning,\n",
            "/usr/local/lib/python3.7/dist-packages/sklearn/model_selection/_validation.py:1097: RuntimeWarning: Number of classes in training fold (24) does not match total number of classes (25). Results may not be appropriate for your use case. To fix this, use a cross-validation technique resulting in properly stratified folds\n",
            "  RuntimeWarning,\n",
            "/usr/local/lib/python3.7/dist-packages/sklearn/model_selection/_split.py:680: UserWarning: The least populated class in y has only 1 members, which is less than n_splits=5.\n",
            "  UserWarning,\n",
            "/usr/local/lib/python3.7/dist-packages/sklearn/model_selection/_validation.py:1097: RuntimeWarning: Number of classes in training fold (24) does not match total number of classes (25). Results may not be appropriate for your use case. To fix this, use a cross-validation technique resulting in properly stratified folds\n",
            "  RuntimeWarning,\n",
            "/usr/local/lib/python3.7/dist-packages/sklearn/model_selection/_validation.py:1097: RuntimeWarning: Number of classes in training fold (24) does not match total number of classes (25). Results may not be appropriate for your use case. To fix this, use a cross-validation technique resulting in properly stratified folds\n",
            "  RuntimeWarning,\n",
            "/usr/local/lib/python3.7/dist-packages/sklearn/linear_model/_logistic.py:818: ConvergenceWarning: lbfgs failed to converge (status=1):\n",
            "STOP: TOTAL NO. of ITERATIONS REACHED LIMIT.\n",
            "\n",
            "Increase the number of iterations (max_iter) or scale the data as shown in:\n",
            "    https://scikit-learn.org/stable/modules/preprocessing.html\n",
            "Please also refer to the documentation for alternative solver options:\n",
            "    https://scikit-learn.org/stable/modules/linear_model.html#logistic-regression\n",
            "  extra_warning_msg=_LOGISTIC_SOLVER_CONVERGENCE_MSG,\n",
            "/usr/local/lib/python3.7/dist-packages/sklearn/model_selection/_split.py:680: UserWarning: The least populated class in y has only 1 members, which is less than n_splits=5.\n",
            "  UserWarning,\n",
            "/usr/local/lib/python3.7/dist-packages/sklearn/model_selection/_validation.py:1097: RuntimeWarning: Number of classes in training fold (26) does not match total number of classes (27). Results may not be appropriate for your use case. To fix this, use a cross-validation technique resulting in properly stratified folds\n",
            "  RuntimeWarning,\n",
            "/usr/local/lib/python3.7/dist-packages/sklearn/model_selection/_validation.py:1097: RuntimeWarning: Number of classes in training fold (26) does not match total number of classes (27). Results may not be appropriate for your use case. To fix this, use a cross-validation technique resulting in properly stratified folds\n",
            "  RuntimeWarning,\n",
            "/usr/local/lib/python3.7/dist-packages/sklearn/model_selection/_validation.py:1097: RuntimeWarning: Number of classes in training fold (26) does not match total number of classes (27). Results may not be appropriate for your use case. To fix this, use a cross-validation technique resulting in properly stratified folds\n",
            "  RuntimeWarning,\n",
            "/usr/local/lib/python3.7/dist-packages/sklearn/model_selection/_validation.py:1097: RuntimeWarning: Number of classes in training fold (25) does not match total number of classes (27). Results may not be appropriate for your use case. To fix this, use a cross-validation technique resulting in properly stratified folds\n",
            "  RuntimeWarning,\n",
            "/usr/local/lib/python3.7/dist-packages/sklearn/model_selection/_validation.py:1097: RuntimeWarning: Number of classes in training fold (26) does not match total number of classes (27). Results may not be appropriate for your use case. To fix this, use a cross-validation technique resulting in properly stratified folds\n",
            "  RuntimeWarning,\n",
            "/usr/local/lib/python3.7/dist-packages/sklearn/model_selection/_split.py:680: UserWarning: The least populated class in y has only 1 members, which is less than n_splits=5.\n",
            "  UserWarning,\n",
            "/usr/local/lib/python3.7/dist-packages/sklearn/model_selection/_validation.py:1097: RuntimeWarning: Number of classes in training fold (26) does not match total number of classes (27). Results may not be appropriate for your use case. To fix this, use a cross-validation technique resulting in properly stratified folds\n",
            "  RuntimeWarning,\n",
            "/usr/local/lib/python3.7/dist-packages/sklearn/model_selection/_validation.py:1097: RuntimeWarning: Number of classes in training fold (26) does not match total number of classes (27). Results may not be appropriate for your use case. To fix this, use a cross-validation technique resulting in properly stratified folds\n",
            "  RuntimeWarning,\n",
            "/usr/local/lib/python3.7/dist-packages/sklearn/model_selection/_validation.py:1097: RuntimeWarning: Number of classes in training fold (26) does not match total number of classes (27). Results may not be appropriate for your use case. To fix this, use a cross-validation technique resulting in properly stratified folds\n",
            "  RuntimeWarning,\n",
            "/usr/local/lib/python3.7/dist-packages/sklearn/model_selection/_validation.py:1097: RuntimeWarning: Number of classes in training fold (25) does not match total number of classes (27). Results may not be appropriate for your use case. To fix this, use a cross-validation technique resulting in properly stratified folds\n",
            "  RuntimeWarning,\n",
            "/usr/local/lib/python3.7/dist-packages/sklearn/model_selection/_validation.py:1097: RuntimeWarning: Number of classes in training fold (26) does not match total number of classes (27). Results may not be appropriate for your use case. To fix this, use a cross-validation technique resulting in properly stratified folds\n",
            "  RuntimeWarning,\n",
            "/usr/local/lib/python3.7/dist-packages/sklearn/model_selection/_split.py:680: UserWarning: The least populated class in y has only 1 members, which is less than n_splits=5.\n",
            "  UserWarning,\n",
            "/usr/local/lib/python3.7/dist-packages/sklearn/model_selection/_validation.py:1097: RuntimeWarning: Number of classes in training fold (26) does not match total number of classes (27). Results may not be appropriate for your use case. To fix this, use a cross-validation technique resulting in properly stratified folds\n",
            "  RuntimeWarning,\n",
            "/usr/local/lib/python3.7/dist-packages/sklearn/model_selection/_validation.py:1097: RuntimeWarning: Number of classes in training fold (26) does not match total number of classes (27). Results may not be appropriate for your use case. To fix this, use a cross-validation technique resulting in properly stratified folds\n",
            "  RuntimeWarning,\n",
            "/usr/local/lib/python3.7/dist-packages/sklearn/model_selection/_validation.py:1097: RuntimeWarning: Number of classes in training fold (26) does not match total number of classes (27). Results may not be appropriate for your use case. To fix this, use a cross-validation technique resulting in properly stratified folds\n",
            "  RuntimeWarning,\n",
            "/usr/local/lib/python3.7/dist-packages/sklearn/model_selection/_validation.py:1097: RuntimeWarning: Number of classes in training fold (25) does not match total number of classes (27). Results may not be appropriate for your use case. To fix this, use a cross-validation technique resulting in properly stratified folds\n",
            "  RuntimeWarning,\n",
            "/usr/local/lib/python3.7/dist-packages/sklearn/model_selection/_validation.py:1097: RuntimeWarning: Number of classes in training fold (26) does not match total number of classes (27). Results may not be appropriate for your use case. To fix this, use a cross-validation technique resulting in properly stratified folds\n",
            "  RuntimeWarning,\n",
            "/usr/local/lib/python3.7/dist-packages/sklearn/linear_model/_logistic.py:818: ConvergenceWarning: lbfgs failed to converge (status=1):\n",
            "STOP: TOTAL NO. of ITERATIONS REACHED LIMIT.\n",
            "\n",
            "Increase the number of iterations (max_iter) or scale the data as shown in:\n",
            "    https://scikit-learn.org/stable/modules/preprocessing.html\n",
            "Please also refer to the documentation for alternative solver options:\n",
            "    https://scikit-learn.org/stable/modules/linear_model.html#logistic-regression\n",
            "  extra_warning_msg=_LOGISTIC_SOLVER_CONVERGENCE_MSG,\n"
          ]
        }
      ]
    },
    {
      "cell_type": "code",
      "source": [
        "accuracy_mean"
      ],
      "metadata": {
        "colab": {
          "base_uri": "https://localhost:8080/"
        },
        "id": "vHEkWS0v8rob",
        "outputId": "d77ce38e-9bd0-4d76-9181-fda8f2936115"
      },
      "execution_count": 80,
      "outputs": [
        {
          "output_type": "execute_result",
          "data": {
            "text/plain": [
              "{'Clsfr_poly': 0.23413918937874925,\n",
              " 'Clsfr_poly_lda': 0.24419442587870935,\n",
              " 'Clsfr_poly_pca': 0.23246242845315798,\n",
              " 'Clsfr_rbf': 0.2679006348106157,\n",
              " 'Clsfr_rbf_lda': 0.27556037577047804,\n",
              " 'Clsfr_rbf_pca': 0.2647877798956468,\n",
              " 'Clsfr_sigmoid': 0.17357329202113467,\n",
              " 'Clsfr_sigmoid_lda': 0.19751569836043928,\n",
              " 'Clsfr_sigmoid_pca': 0.17548865702348634,\n",
              " 'DT_Gini': 0.18889243013095033,\n",
              " 'DT_Gini_lda': 0.18290841866695273,\n",
              " 'DT_Gini_pca': 0.18841229959320413,\n",
              " 'DT_IG': 0.1738093175235785,\n",
              " 'DT_IG_lda': 0.18985303501635156,\n",
              " 'DT_IG_pca': 0.18912759610862193,\n",
              " 'NB': 0.24228748421912516,\n",
              " 'NB_lda': 0.25353505348306943,\n",
              " 'NB_pca': 0.2418064941566068,\n",
              " 'ensemble': 0.267423426657095,\n",
              " 'ensemble_lda': 0.2564067257469614,\n",
              " 'ensemble_pca': 0.2585606948260734,\n",
              " 'knn1': 0.19774880147865767,\n",
              " 'knn1_lda': 0.18027535047982113,\n",
              " 'knn1_pca': 0.1888941491804947,\n",
              " 'knn3': 0.21091826813322223,\n",
              " 'knn3_lda': 0.20373865771110614,\n",
              " 'knn3_pca': 0.19559792668872553,\n",
              " 'knn5': 0.2181002852247004,\n",
              " 'knn5_lda': 0.2137940661160207,\n",
              " 'knn5_pca': 0.21331290414854787}"
            ]
          },
          "metadata": {},
          "execution_count": 80
        }
      ]
    },
    {
      "cell_type": "code",
      "source": [
        "accuracy_std"
      ],
      "metadata": {
        "id": "DY472ZtN8zPW",
        "colab": {
          "base_uri": "https://localhost:8080/"
        },
        "outputId": "77e70d76-79d6-4b26-ded0-b15687381da7"
      },
      "execution_count": 81,
      "outputs": [
        {
          "output_type": "execute_result",
          "data": {
            "text/plain": [
              "{'Clsfr_poly': 0.0044200449459176365,\n",
              " 'Clsfr_poly_lda': 0.001176035653653274,\n",
              " 'Clsfr_poly_pca': 0.0037490402523250705,\n",
              " 'Clsfr_rbf': 0.017082822273673148,\n",
              " 'Clsfr_rbf_lda': 0.01551886408047912,\n",
              " 'Clsfr_rbf_pca': 0.01665957906276549,\n",
              " 'Clsfr_sigmoid': 0.014696474728191444,\n",
              " 'Clsfr_sigmoid_lda': 0.01682315575380666,\n",
              " 'Clsfr_sigmoid_pca': 0.0149533585141316,\n",
              " 'DT_Gini': 0.007230155099336934,\n",
              " 'DT_Gini_lda': 0.0067995516411667655,\n",
              " 'DT_Gini_pca': 0.003204060480759218,\n",
              " 'DT_IG': 0.004813914381123548,\n",
              " 'DT_IG_lda': 0.011587018934724264,\n",
              " 'DT_IG_pca': 0.010628812076785467,\n",
              " 'NB': 0.024833023425577905,\n",
              " 'NB_lda': 0.011256007723667983,\n",
              " 'NB_pca': 0.018715477795703046,\n",
              " 'ensemble': 0.020179355087524876,\n",
              " 'ensemble_lda': 0.014777478609781864,\n",
              " 'ensemble_pca': 0.00974078673705838,\n",
              " 'knn1': 0.003728661782514894,\n",
              " 'knn1_lda': 0.011810070378506782,\n",
              " 'knn1_pca': 0.00833005163505157,\n",
              " 'knn3': 0.0068384728481449214,\n",
              " 'knn3_lda': 0.012284160448918731,\n",
              " 'knn3_pca': 0.010966034424833375,\n",
              " 'knn5': 0.01563794360488216,\n",
              " 'knn5_lda': 0.015036868633866416,\n",
              " 'knn5_pca': 0.011210464698632938}"
            ]
          },
          "metadata": {},
          "execution_count": 81
        }
      ]
    },
    {
      "cell_type": "code",
      "source": [
        "precision_mean"
      ],
      "metadata": {
        "colab": {
          "base_uri": "https://localhost:8080/"
        },
        "id": "pacckV57c_Ob",
        "outputId": "6a19ecd6-8956-4aca-867d-1a56d9f3d019"
      },
      "execution_count": 82,
      "outputs": [
        {
          "output_type": "execute_result",
          "data": {
            "text/plain": [
              "{'Clsfr_poly': 0.23413918937874925,\n",
              " 'Clsfr_poly_lda': 0.24419442587870935,\n",
              " 'Clsfr_poly_pca': 0.23246242845315798,\n",
              " 'Clsfr_rbf': 0.2679006348106157,\n",
              " 'Clsfr_rbf_lda': 0.27556037577047804,\n",
              " 'Clsfr_rbf_pca': 0.2647877798956468,\n",
              " 'Clsfr_sigmoid': 0.17357329202113467,\n",
              " 'Clsfr_sigmoid_lda': 0.19751569836043928,\n",
              " 'Clsfr_sigmoid_pca': 0.17548865702348634,\n",
              " 'DT_Gini': 0.18889243013095033,\n",
              " 'DT_Gini_lda': 0.18290841866695273,\n",
              " 'DT_Gini_pca': 0.18841229959320413,\n",
              " 'DT_IG': 0.1738093175235785,\n",
              " 'DT_IG_lda': 0.18985303501635156,\n",
              " 'DT_IG_pca': 0.18912759610862193,\n",
              " 'NB': 0.24228748421912516,\n",
              " 'NB_lda': 0.25353505348306943,\n",
              " 'NB_pca': 0.2418064941566068,\n",
              " 'ensemble': 0.267423426657095,\n",
              " 'ensemble_lda': 0.2564067257469614,\n",
              " 'ensemble_pca': 0.2585606948260734,\n",
              " 'knn1': 0.19774880147865767,\n",
              " 'knn1_lda': 0.18027535047982113,\n",
              " 'knn1_pca': 0.1888941491804947,\n",
              " 'knn3': 0.21091826813322223,\n",
              " 'knn3_lda': 0.20373865771110614,\n",
              " 'knn3_pca': 0.19559792668872553,\n",
              " 'knn5': 0.2181002852247004,\n",
              " 'knn5_lda': 0.2137940661160207,\n",
              " 'knn5_pca': 0.21331290414854787}"
            ]
          },
          "metadata": {},
          "execution_count": 82
        }
      ]
    },
    {
      "cell_type": "code",
      "source": [
        "precision_std"
      ],
      "metadata": {
        "colab": {
          "base_uri": "https://localhost:8080/"
        },
        "id": "4D-_UqETc-97",
        "outputId": "dd029762-5d6d-466c-b57d-a6fa0a35adf4"
      },
      "execution_count": 83,
      "outputs": [
        {
          "output_type": "execute_result",
          "data": {
            "text/plain": [
              "{'Clsfr_poly': 0.0044200449459176365,\n",
              " 'Clsfr_poly_lda': 0.001176035653653274,\n",
              " 'Clsfr_poly_pca': 0.0037490402523250705,\n",
              " 'Clsfr_rbf': 0.017082822273673148,\n",
              " 'Clsfr_rbf_lda': 0.01551886408047912,\n",
              " 'Clsfr_rbf_pca': 0.01665957906276549,\n",
              " 'Clsfr_sigmoid': 0.014696474728191444,\n",
              " 'Clsfr_sigmoid_lda': 0.01682315575380666,\n",
              " 'Clsfr_sigmoid_pca': 0.0149533585141316,\n",
              " 'DT_Gini': 0.007230155099336934,\n",
              " 'DT_Gini_lda': 0.0067995516411667655,\n",
              " 'DT_Gini_pca': 0.003204060480759218,\n",
              " 'DT_IG': 0.004813914381123548,\n",
              " 'DT_IG_lda': 0.011587018934724264,\n",
              " 'DT_IG_pca': 0.010628812076785467,\n",
              " 'NB': 0.024833023425577905,\n",
              " 'NB_lda': 0.011256007723667983,\n",
              " 'NB_pca': 0.018715477795703046,\n",
              " 'ensemble': 0.020179355087524876,\n",
              " 'ensemble_lda': 0.014777478609781864,\n",
              " 'ensemble_pca': 0.00974078673705838,\n",
              " 'knn1': 0.003728661782514894,\n",
              " 'knn1_lda': 0.011810070378506782,\n",
              " 'knn1_pca': 0.00833005163505157,\n",
              " 'knn3': 0.0068384728481449214,\n",
              " 'knn3_lda': 0.012284160448918731,\n",
              " 'knn3_pca': 0.010966034424833375,\n",
              " 'knn5': 0.01563794360488216,\n",
              " 'knn5_lda': 0.015036868633866416,\n",
              " 'knn5_pca': 0.011210464698632938}"
            ]
          },
          "metadata": {},
          "execution_count": 83
        }
      ]
    },
    {
      "cell_type": "code",
      "source": [
        "recall_mean"
      ],
      "metadata": {
        "colab": {
          "base_uri": "https://localhost:8080/"
        },
        "id": "jjt7U0obc-1o",
        "outputId": "a01114b4-a83e-481e-f562-6af859c8b9d9"
      },
      "execution_count": 84,
      "outputs": [
        {
          "output_type": "execute_result",
          "data": {
            "text/plain": [
              "{'Clsfr_poly': 0.23413918937874925,\n",
              " 'Clsfr_poly_lda': 0.24419442587870935,\n",
              " 'Clsfr_poly_pca': 0.23246242845315798,\n",
              " 'Clsfr_rbf': 0.2679006348106157,\n",
              " 'Clsfr_rbf_lda': 0.27556037577047804,\n",
              " 'Clsfr_rbf_pca': 0.2647877798956468,\n",
              " 'Clsfr_sigmoid': 0.17357329202113467,\n",
              " 'Clsfr_sigmoid_lda': 0.19751569836043928,\n",
              " 'Clsfr_sigmoid_pca': 0.17548865702348634,\n",
              " 'DT_Gini': 0.18889243013095033,\n",
              " 'DT_Gini_lda': 0.18290841866695273,\n",
              " 'DT_Gini_pca': 0.18841229959320413,\n",
              " 'DT_IG': 0.1738093175235785,\n",
              " 'DT_IG_lda': 0.18985303501635156,\n",
              " 'DT_IG_pca': 0.18912759610862193,\n",
              " 'NB': 0.24228748421912516,\n",
              " 'NB_lda': 0.25353505348306943,\n",
              " 'NB_pca': 0.2418064941566068,\n",
              " 'ensemble': 0.267423426657095,\n",
              " 'ensemble_lda': 0.2564067257469614,\n",
              " 'ensemble_pca': 0.2585606948260734,\n",
              " 'knn1': 0.19774880147865767,\n",
              " 'knn1_lda': 0.18027535047982113,\n",
              " 'knn1_pca': 0.1888941491804947,\n",
              " 'knn3': 0.21091826813322223,\n",
              " 'knn3_lda': 0.20373865771110614,\n",
              " 'knn3_pca': 0.19559792668872553,\n",
              " 'knn5': 0.2181002852247004,\n",
              " 'knn5_lda': 0.2137940661160207,\n",
              " 'knn5_pca': 0.21331290414854787}"
            ]
          },
          "metadata": {},
          "execution_count": 84
        }
      ]
    },
    {
      "cell_type": "code",
      "source": [
        "recall_std"
      ],
      "metadata": {
        "colab": {
          "base_uri": "https://localhost:8080/"
        },
        "id": "T6nK3nJUc-nL",
        "outputId": "270ddbac-0630-473b-b0bb-e54fa5b2e013"
      },
      "execution_count": 85,
      "outputs": [
        {
          "output_type": "execute_result",
          "data": {
            "text/plain": [
              "{'Clsfr_poly': 0.0044200449459176365,\n",
              " 'Clsfr_poly_lda': 0.001176035653653274,\n",
              " 'Clsfr_poly_pca': 0.0037490402523250705,\n",
              " 'Clsfr_rbf': 0.017082822273673148,\n",
              " 'Clsfr_rbf_lda': 0.01551886408047912,\n",
              " 'Clsfr_rbf_pca': 0.01665957906276549,\n",
              " 'Clsfr_sigmoid': 0.014696474728191444,\n",
              " 'Clsfr_sigmoid_lda': 0.01682315575380666,\n",
              " 'Clsfr_sigmoid_pca': 0.0149533585141316,\n",
              " 'DT_Gini': 0.007230155099336934,\n",
              " 'DT_Gini_lda': 0.0067995516411667655,\n",
              " 'DT_Gini_pca': 0.003204060480759218,\n",
              " 'DT_IG': 0.004813914381123548,\n",
              " 'DT_IG_lda': 0.011587018934724264,\n",
              " 'DT_IG_pca': 0.010628812076785467,\n",
              " 'NB': 0.024833023425577905,\n",
              " 'NB_lda': 0.011256007723667983,\n",
              " 'NB_pca': 0.018715477795703046,\n",
              " 'ensemble': 0.020179355087524876,\n",
              " 'ensemble_lda': 0.014777478609781864,\n",
              " 'ensemble_pca': 0.00974078673705838,\n",
              " 'knn1': 0.003728661782514894,\n",
              " 'knn1_lda': 0.011810070378506782,\n",
              " 'knn1_pca': 0.00833005163505157,\n",
              " 'knn3': 0.0068384728481449214,\n",
              " 'knn3_lda': 0.012284160448918731,\n",
              " 'knn3_pca': 0.010966034424833375,\n",
              " 'knn5': 0.01563794360488216,\n",
              " 'knn5_lda': 0.015036868633866416,\n",
              " 'knn5_pca': 0.011210464698632938}"
            ]
          },
          "metadata": {},
          "execution_count": 85
        }
      ]
    },
    {
      "cell_type": "code",
      "source": [
        "f_measure_mean"
      ],
      "metadata": {
        "colab": {
          "base_uri": "https://localhost:8080/"
        },
        "id": "TgPlC9rRdGsM",
        "outputId": "3b2afc74-1a76-49fc-e391-2d2a9f89bc54"
      },
      "execution_count": 86,
      "outputs": [
        {
          "output_type": "execute_result",
          "data": {
            "text/plain": [
              "{'Clsfr_poly': 0.23413918937874925,\n",
              " 'Clsfr_poly_lda': 0.24419442587870935,\n",
              " 'Clsfr_poly_pca': 0.23246242845315798,\n",
              " 'Clsfr_rbf': 0.2679006348106157,\n",
              " 'Clsfr_rbf_lda': 0.27556037577047804,\n",
              " 'Clsfr_rbf_pca': 0.2647877798956468,\n",
              " 'Clsfr_sigmoid': 0.1735732920211347,\n",
              " 'Clsfr_sigmoid_lda': 0.19751569836043928,\n",
              " 'Clsfr_sigmoid_pca': 0.17548865702348637,\n",
              " 'DT_Gini': 0.18889243013095033,\n",
              " 'DT_Gini_lda': 0.18290841866695273,\n",
              " 'DT_Gini_pca': 0.18841229959320413,\n",
              " 'DT_IG': 0.1738093175235785,\n",
              " 'DT_IG_lda': 0.18985303501635162,\n",
              " 'DT_IG_pca': 0.18912759610862193,\n",
              " 'NB': 0.24228748421912516,\n",
              " 'NB_lda': 0.25353505348306943,\n",
              " 'NB_pca': 0.2418064941566068,\n",
              " 'ensemble': 0.267423426657095,\n",
              " 'ensemble_lda': 0.2564067257469614,\n",
              " 'ensemble_pca': 0.2585606948260734,\n",
              " 'knn1': 0.19774880147865767,\n",
              " 'knn1_lda': 0.18027535047982113,\n",
              " 'knn1_pca': 0.1888941491804947,\n",
              " 'knn3': 0.21091826813322223,\n",
              " 'knn3_lda': 0.20373865771110614,\n",
              " 'knn3_pca': 0.19559792668872553,\n",
              " 'knn5': 0.2181002852247004,\n",
              " 'knn5_lda': 0.2137940661160207,\n",
              " 'knn5_pca': 0.21331290414854787}"
            ]
          },
          "metadata": {},
          "execution_count": 86
        }
      ]
    },
    {
      "cell_type": "code",
      "source": [
        "f_measure_std"
      ],
      "metadata": {
        "colab": {
          "base_uri": "https://localhost:8080/"
        },
        "id": "26tceKLBdGgH",
        "outputId": "61fa65a6-ca6d-4d1f-ecb3-519b87e5f06b"
      },
      "execution_count": 87,
      "outputs": [
        {
          "output_type": "execute_result",
          "data": {
            "text/plain": [
              "{'Clsfr_poly': 0.0044200449459176365,\n",
              " 'Clsfr_poly_lda': 0.001176035653653274,\n",
              " 'Clsfr_poly_pca': 0.0037490402523250705,\n",
              " 'Clsfr_rbf': 0.017082822273673148,\n",
              " 'Clsfr_rbf_lda': 0.01551886408047912,\n",
              " 'Clsfr_rbf_pca': 0.01665957906276549,\n",
              " 'Clsfr_sigmoid': 0.014696474728191456,\n",
              " 'Clsfr_sigmoid_lda': 0.01682315575380666,\n",
              " 'Clsfr_sigmoid_pca': 0.014953358514131612,\n",
              " 'DT_Gini': 0.007230155099336938,\n",
              " 'DT_Gini_lda': 0.006799551641166765,\n",
              " 'DT_Gini_pca': 0.003204060480759218,\n",
              " 'DT_IG': 0.004813914381123561,\n",
              " 'DT_IG_lda': 0.011587018934724268,\n",
              " 'DT_IG_pca': 0.010628812076785475,\n",
              " 'NB': 0.024833023425577905,\n",
              " 'NB_lda': 0.011256007723667983,\n",
              " 'NB_pca': 0.018715477795703046,\n",
              " 'ensemble': 0.020179355087524876,\n",
              " 'ensemble_lda': 0.014777478609781864,\n",
              " 'ensemble_pca': 0.00974078673705838,\n",
              " 'knn1': 0.003728661782514894,\n",
              " 'knn1_lda': 0.011810070378506782,\n",
              " 'knn1_pca': 0.00833005163505157,\n",
              " 'knn3': 0.0068384728481449214,\n",
              " 'knn3_lda': 0.012284160448918731,\n",
              " 'knn3_pca': 0.010966034424833373,\n",
              " 'knn5': 0.01563794360488216,\n",
              " 'knn5_lda': 0.015036868633866416,\n",
              " 'knn5_pca': 0.011210464698632938}"
            ]
          },
          "metadata": {},
          "execution_count": 87
        }
      ]
    },
    {
      "cell_type": "code",
      "source": [
        "fit_time"
      ],
      "metadata": {
        "colab": {
          "base_uri": "https://localhost:8080/"
        },
        "id": "EvTLs7E1dKFg",
        "outputId": "fdcd1368-31ca-4779-b1d6-fd48131d9d7a"
      },
      "execution_count": 88,
      "outputs": [
        {
          "output_type": "execute_result",
          "data": {
            "text/plain": [
              "{'Clsfr_poly': 728.0720869700114,\n",
              " 'Clsfr_poly_lda': 475.5218029022217,\n",
              " 'Clsfr_poly_pca': 998.8261858622233,\n",
              " 'Clsfr_rbf': 551.5552361806234,\n",
              " 'Clsfr_rbf_lda': 535.3235403696696,\n",
              " 'Clsfr_rbf_pca': 517.6626841227213,\n",
              " 'Clsfr_sigmoid': 545.8678404490153,\n",
              " 'Clsfr_sigmoid_lda': 622.5981712341309,\n",
              " 'Clsfr_sigmoid_pca': 525.7273515065511,\n",
              " 'DT_Gini': 20.502408345540363,\n",
              " 'DT_Gini_lda': 22.595564524332683,\n",
              " 'DT_Gini_pca': 23.81618817647298,\n",
              " 'DT_IG': 56.82269732157389,\n",
              " 'DT_IG_lda': 93.50228309631348,\n",
              " 'DT_IG_pca': 93.43552589416504,\n",
              " 'NB': 4.634300867716472,\n",
              " 'NB_lda': 3.4637451171875,\n",
              " 'NB_pca': 3.9548873901367188,\n",
              " 'ensemble': 1601.7138163248699,\n",
              " 'ensemble_lda': 1608.7299982706706,\n",
              " 'ensemble_pca': 1717.7931467692058,\n",
              " 'knn1': 2.917130788167318,\n",
              " 'knn1_lda': 2.6712417602539062,\n",
              " 'knn1_pca': 2.387444178263346,\n",
              " 'knn3': 3.0135313669840493,\n",
              " 'knn3_lda': 2.3774305979410806,\n",
              " 'knn3_pca': 2.347151438395182,\n",
              " 'knn5': 2.7987162272135415,\n",
              " 'knn5_lda': 2.355496088663737,\n",
              " 'knn5_pca': 2.348025639851888}"
            ]
          },
          "metadata": {},
          "execution_count": 88
        }
      ]
    },
    {
      "cell_type": "code",
      "source": [
        "a = []\n",
        "b = []\n",
        "a = list(accuracy_mean.values())\n",
        "b = list(accuracy_mean.keys())\n",
        "plt.figure(figsize=(15, 10))\n",
        "plt.plot(a,b,ls='-',marker='+',mew=8, color = \"red\")\n",
        "plt.title('accuracy_mean')\n",
        "plt.grid()\n",
        "plt.show()"
      ],
      "metadata": {
        "colab": {
          "base_uri": "https://localhost:8080/",
          "height": 607
        },
        "id": "BWe7fOA6dvI5",
        "outputId": "e6ed6683-21e0-4c31-8a30-9c48b9adb0a5"
      },
      "execution_count": 89,
      "outputs": [
        {
          "output_type": "display_data",
          "data": {
            "text/plain": [
              "<Figure size 1080x720 with 1 Axes>"
            ],
            "image/png": "[encoded data removed]"
          },
          "metadata": {
            "needs_background": "light"
          }
        }
      ]
    },
    {
      "cell_type": "code",
      "source": [
        "c = []\n",
        "d = []\n",
        "c = list(precision_mean.values())\n",
        "d = list(precision_mean.keys())\n",
        "plt.figure(figsize=(15, 10))\n",
        "plt.barh(d, c, height = 0.8, color = \"green\")\n",
        "plt.title('precision_mean')\n",
        "plt.show()"
      ],
      "metadata": {
        "colab": {
          "base_uri": "https://localhost:8080/",
          "height": 607
        },
        "id": "1kw0LD-2zSBS",
        "outputId": "096b3c84-9519-424f-b784-654a976c3113"
      },
      "execution_count": 90,
      "outputs": [
        {
          "output_type": "display_data",
          "data": {
            "text/plain": [
              "<Figure size 1080x720 with 1 Axes>"
            ],
            "image/png": "[encoded data removed]"
          },
          "metadata": {
            "needs_background": "light"
          }
        }
      ]
    }
  ]
}